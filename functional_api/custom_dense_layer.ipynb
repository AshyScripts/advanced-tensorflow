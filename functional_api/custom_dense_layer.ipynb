{
 "cells": [
  {
   "cell_type": "markdown",
   "id": "85abfbce-a1e7-4d9f-8705-228ac8efc6d2",
   "metadata": {},
   "source": [
    "# Building a Custom Dense Layer\n",
    "\n",
    "In this lab, we'll walk through how to create a custom layer that inherits the [Layer](https://keras.io/api/layers/base_layer/#layer-class) class. Unlike simple Lambda layers you did previously, the custom layer here will contain weights that can be updated during training.\n",
    "\n",
    "> We will learn how to use initializers and also make the kernels of a simple dense layer and biases trainable so they can get updated in backpropogation step.\n",
    "> For building any custom layer, we need to inherit it using `tensorflow.keras.layers.Layer` class."
   ]
  },
  {
   "cell_type": "code",
   "execution_count": 1,
   "id": "5af36f5b-89da-4f8a-8aa5-31bcc1f36818",
   "metadata": {},
   "outputs": [],
   "source": [
    "# First we need to do some necessary imports\n",
    "import tensorflow as tf\n",
    "import numpy as np"
   ]
  },
  {
   "cell_type": "markdown",
   "id": "f5539d43-620e-4d08-83ea-db9a8b78e2c6",
   "metadata": {},
   "source": [
    "## Custom Layer with weights\n",
    "\n",
    "To make custom layer that is trainable, we need to define a class that inherits the [Layer](https://keras.io/api/layers/base_layer/#layer-class) base class from Keras. The Python syntax is shown below in the class declaration. This class requires three functions: `__init__()`, `build()` and `call()`. These ensure that our custom layer has a *state* and *computation* that can be accessed during training or inference."
   ]
  },
  {
   "cell_type": "code",
   "execution_count": 5,
   "id": "fdafcc0a-87f1-4ab4-99f9-c165def4314a",
   "metadata": {},
   "outputs": [],
   "source": [
    "# Inherit from Layer class of keras API\n",
    "from tensorflow.keras.layers import Layer\n",
    "\n",
    "# Constructing a simple Dense layer\n",
    "class SimpleDense(Layer):\n",
    "    def __init__(self, units=32):\n",
    "        '''Initializes the instance attributes'''\n",
    "        super().__init__()\n",
    "        # Create an object attribute for number of units\n",
    "        self.units = units\n",
    "\n",
    "    # Create a method to initialize kernels and biases \n",
    "    def build(self, input_shape):\n",
    "        '''Create the state of the layer (weights)'''\n",
    "        # Create a weight initializer from a normal distribution\n",
    "        w_init = tf.random_normal_initializer()\n",
    "        # Create an object variable for weights\n",
    "        self.w = tf.Variable(name=\"kernel\", initial_value=w_init(shape=(input_shape[-1], self.units), dtype=tf.float32),\n",
    "                             trainable=True)\n",
    "\n",
    "        # Initialize the biases\n",
    "        b_init = tf.zeros_initializer()\n",
    "        # Create an object variable for biases\n",
    "        self.b = tf.Variable(name=\"bias\",\n",
    "                            initial_value=b_init(shape=(self.units,), dtype=tf.float32), trainable=True)\n",
    "\n",
    "    # Create call method for doing the computation in the layer'\n",
    "    def call(self, inputs):\n",
    "        '''Defines the computation from inputs to outputs'''\n",
    "        return tf.matmul(inputs, self.w) + self.b"
   ]
  },
  {
   "cell_type": "code",
   "execution_count": 6,
   "id": "58ae61d2-596e-4285-8dc8-6aa47906f852",
   "metadata": {},
   "outputs": [
    {
     "name": "stdout",
     "output_type": "stream",
     "text": [
      "[<tf.Variable 'simple_dense_2/kernel:0' shape=(1, 1) dtype=float32, numpy=array([[0.00950447]], dtype=float32)>, <tf.Variable 'simple_dense_2/bias:0' shape=(1,) dtype=float32, numpy=array([0.], dtype=float32)>]\n"
     ]
    }
   ],
   "source": [
    "# declare an instance of the class\n",
    "my_dense = SimpleDense(units=1)\n",
    "\n",
    "# define an input and feed into the layer\n",
    "x = tf.ones((1, 1))\n",
    "y = my_dense(x)\n",
    "\n",
    "# parameters of the base Layer class like `variables` can be used\n",
    "print(my_dense.variables)"
   ]
  },
  {
   "cell_type": "code",
   "execution_count": 8,
   "id": "66f812e6-dfa7-4ad3-b9e6-f29fd1b79dfe",
   "metadata": {},
   "outputs": [
    {
     "name": "stdout",
     "output_type": "stream",
     "text": [
      "1/1 [==============================] - 0s 30ms/step\n",
      "[[18.981522]]\n",
      "[<tf.Variable 'simple_dense_4/kernel:0' shape=(1, 1) dtype=float32, numpy=array([[1.9973216]], dtype=float32)>, <tf.Variable 'simple_dense_4/bias:0' shape=(1,) dtype=float32, numpy=array([-0.99169624], dtype=float32)>]\n"
     ]
    }
   ],
   "source": [
    "# define the dataset\n",
    "xs = np.array([-1.0,  0.0, 1.0, 2.0, 3.0, 4.0], dtype=float).reshape(-1, 1)\n",
    "ys = np.array([-3.0, -1.0, 1.0, 3.0, 5.0, 7.0], dtype=float).reshape(-1, 1)\n",
    "\n",
    "\n",
    "# use the Sequential API to build a model with our custom layer\n",
    "my_layer = SimpleDense(units=1)\n",
    "model = tf.keras.Sequential([my_layer])\n",
    "\n",
    "# configure and train the model\n",
    "model.compile(optimizer='sgd', loss='mean_squared_error')\n",
    "model.fit(xs, ys, epochs=500,verbose=0)\n",
    "\n",
    "# perform inference\n",
    "print(model.predict([10.0]))\n",
    "\n",
    "# see the updated state of the variables\n",
    "print(my_layer.variables)"
   ]
  },
  {
   "cell_type": "markdown",
   "id": "5d0ba183-abad-491f-8f9c-367e2757d46e",
   "metadata": {},
   "source": [
    "- As we can see in the results of the previous cell, we can now print the values of weights and biases to check if our neural network is capturing the relation between x and y. Because the relation between x and y is **$y = 2x - 1$**, we need to check the weights and biases\n"
   ]
  },
  {
   "cell_type": "code",
   "execution_count": 16,
   "id": "374aaac8-8ee1-4901-b178-c1701915c0bb",
   "metadata": {},
   "outputs": [
    {
     "name": "stdout",
     "output_type": "stream",
     "text": [
      "The final and updated weights are: 1.997321605682373\n",
      "The final and updated biases are: -0.9916962385177612\n"
     ]
    }
   ],
   "source": [
    "weights = my_layer.w\n",
    "biases = my_layer.b\n",
    "\n",
    "print(f\"The final and updated weights are: {weights.numpy().flatten()[0]}\")\n",
    "print(f\"The final and updated biases are: {biases.numpy().flatten()[0]}\")"
   ]
  },
  {
   "cell_type": "markdown",
   "id": "0fe808a2-0841-44ff-9672-8190d1253505",
   "metadata": {},
   "source": [
    "> As we can see the network has captured the underlying relation between $x, y$ pretty well!"
   ]
  },
  {
   "cell_type": "code",
   "execution_count": null,
   "id": "409a0ee2-b04c-46de-848b-877b1316346c",
   "metadata": {},
   "outputs": [],
   "source": []
  }
 ],
 "metadata": {
  "kernelspec": {
   "display_name": "Python 3 (ipykernel)",
   "language": "python",
   "name": "python3"
  },
  "language_info": {
   "codemirror_mode": {
    "name": "ipython",
    "version": 3
   },
   "file_extension": ".py",
   "mimetype": "text/x-python",
   "name": "python",
   "nbconvert_exporter": "python",
   "pygments_lexer": "ipython3",
   "version": "3.11.5"
  }
 },
 "nbformat": 4,
 "nbformat_minor": 5
}
