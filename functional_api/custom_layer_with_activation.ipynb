{
 "cells": [
  {
   "cell_type": "markdown",
   "id": "3ab22df2-19e9-463b-8d49-4ec40ed1ef6b",
   "metadata": {},
   "source": [
    "# Activation in Custom Layers\n",
    "\n",
    "In this lab, we extend our knowledge of building custom layers by adding an activation parameter. The implementation is pretty straightforward as you'll see below."
   ]
  },
  {
   "cell_type": "code",
   "execution_count": 2,
   "id": "d9159a71-15aa-4127-9922-8b6a1b74d10f",
   "metadata": {},
   "outputs": [],
   "source": [
    "# Imports\n",
    "import tensorflow as tf\n",
    "from tensorflow.keras.layers import Layer\n",
    "import numpy as np"
   ]
  },
  {
   "cell_type": "markdown",
   "id": "46d7185b-6a5a-45c5-81d7-7ab112760bd7",
   "metadata": {},
   "source": [
    "## Adding an activation layer\n",
    "\n",
    "To use the built-in activations in Keras, we can specify an `activation` parameter in the `__init__()` method of our custom layer class. From there, we can initialize it by using the `tf.keras.activations.get()` method. This takes in a string identifier that corresponds to one of the [available activations](https://keras.io/api/layers/activations/#available-activations) in Keras. Next, you can now pass in the forward computation to this activation in the `call()` method."
   ]
  },
  {
   "cell_type": "code",
   "execution_count": 3,
   "id": "c9a64d28-f347-43d6-8e6a-ba6ba851ca86",
   "metadata": {},
   "outputs": [],
   "source": [
    "# In this class, we build a custom dense layer with activation\n",
    "class SimpleDense(Layer):\n",
    "    def __init__(self, units, activation=None):\n",
    "        super().__init__()\n",
    "        self.units = units\n",
    "        self.activation = tf.keras.activations.get(activation)\n",
    "\n",
    "    # A method to initialize the state of the layer\n",
    "    def build(self, input_shape):\n",
    "        # Weights\n",
    "        w_init = tf.random_normal_initializer()\n",
    "        self.w = tf.Variable(name=\"kernel\",\n",
    "                            initial_value=w_init(shape=(input_shape[-1], self.units), dtype='float32'),\n",
    "                            trainable=True)\n",
    "        # Biases\n",
    "        b_init = tf.zeros_initializer()\n",
    "        self.b = tf.Variable(name=\"bias\",\n",
    "                            initial_value=b_init(shape=(self.units,), dtype='float32'),\n",
    "                            trainable=True)\n",
    "\n",
    "    # A method to compute output of the layer from a given inputs\n",
    "    def call(self, inputs):\n",
    "        output = tf.matmul(inputs, self.w) + self.b\n",
    "        return self.activation(output)"
   ]
  },
  {
   "cell_type": "markdown",
   "id": "1ddec4c0-2cbb-4200-be32-ba5e785d6624",
   "metadata": {},
   "source": [
    "We can now pass in an activation parameter to our custom layer. The string identifier is mostly the same as the function name so 'relu' below will get `tf.keras.activations.relu`."
   ]
  },
  {
   "cell_type": "code",
   "execution_count": 4,
   "id": "2a46e220-d80f-4837-83d4-eb0287fe5908",
   "metadata": {},
   "outputs": [
    {
     "name": "stdout",
     "output_type": "stream",
     "text": [
      "Epoch 1/10\n",
      "469/469 [==============================] - 1s 1ms/step - loss: 0.4077 - accuracy: 0.8828 - val_loss: 0.1934 - val_accuracy: 0.9439\n",
      "Epoch 2/10\n",
      "469/469 [==============================] - 1s 1ms/step - loss: 0.1917 - accuracy: 0.9447 - val_loss: 0.1395 - val_accuracy: 0.9588\n",
      "Epoch 3/10\n",
      "469/469 [==============================] - 1s 1ms/step - loss: 0.1440 - accuracy: 0.9584 - val_loss: 0.1126 - val_accuracy: 0.9657\n",
      "Epoch 4/10\n",
      "469/469 [==============================] - 1s 1ms/step - loss: 0.1163 - accuracy: 0.9658 - val_loss: 0.1029 - val_accuracy: 0.9699\n",
      "Epoch 5/10\n",
      "469/469 [==============================] - 1s 1ms/step - loss: 0.1001 - accuracy: 0.9702 - val_loss: 0.0882 - val_accuracy: 0.9736\n",
      "Epoch 6/10\n",
      "469/469 [==============================] - 1s 1ms/step - loss: 0.0874 - accuracy: 0.9741 - val_loss: 0.0799 - val_accuracy: 0.9744\n",
      "Epoch 7/10\n",
      "469/469 [==============================] - 1s 1ms/step - loss: 0.0762 - accuracy: 0.9772 - val_loss: 0.0767 - val_accuracy: 0.9775\n",
      "Epoch 8/10\n",
      "469/469 [==============================] - 1s 1ms/step - loss: 0.0688 - accuracy: 0.9796 - val_loss: 0.0695 - val_accuracy: 0.9791\n",
      "Epoch 9/10\n",
      "469/469 [==============================] - 1s 1ms/step - loss: 0.0630 - accuracy: 0.9805 - val_loss: 0.0698 - val_accuracy: 0.9783\n",
      "Epoch 10/10\n",
      "469/469 [==============================] - 1s 1ms/step - loss: 0.0564 - accuracy: 0.9820 - val_loss: 0.0716 - val_accuracy: 0.9780\n"
     ]
    }
   ],
   "source": [
    "mnist = tf.keras.datasets.mnist\n",
    "\n",
    "(X_train, y_train), (X_test, y_test) = mnist.load_data()\n",
    "X_train, X_test = X_train / 255., X_test / 255.\n",
    "\n",
    "# Creating a simple sequential model using our custom layer\n",
    "model = tf.keras.models.Sequential([\n",
    "    tf.keras.layers.Flatten(input_shape=(28, 28)),\n",
    "    SimpleDense(128, activation=tf.nn.relu),\n",
    "    tf.keras.layers.Dropout(0.2),\n",
    "    tf.keras.layers.Dense(10, activation='softmax'),\n",
    "])\n",
    "\n",
    "# Compile the model\n",
    "model.compile(optimizer='adam',\n",
    "             loss='sparse_categorical_crossentropy',\n",
    "             metrics=[\"accuracy\"])\n",
    "\n",
    "# Fit the model\n",
    "history = model.fit(X_train, y_train, epochs=10,\n",
    "                   batch_size=128, validation_data=(X_test, y_test))"
   ]
  },
  {
   "cell_type": "code",
   "execution_count": 7,
   "id": "fd5b3052-73e4-4640-9310-3a2d4162a82e",
   "metadata": {},
   "outputs": [
    {
     "data": {
      "text/html": [
       "<div>\n",
       "<style scoped>\n",
       "    .dataframe tbody tr th:only-of-type {\n",
       "        vertical-align: middle;\n",
       "    }\n",
       "\n",
       "    .dataframe tbody tr th {\n",
       "        vertical-align: top;\n",
       "    }\n",
       "\n",
       "    .dataframe thead th {\n",
       "        text-align: right;\n",
       "    }\n",
       "</style>\n",
       "<table border=\"1\" class=\"dataframe\">\n",
       "  <thead>\n",
       "    <tr style=\"text-align: right;\">\n",
       "      <th></th>\n",
       "      <th>loss</th>\n",
       "      <th>accuracy</th>\n",
       "      <th>val_loss</th>\n",
       "      <th>val_accuracy</th>\n",
       "    </tr>\n",
       "  </thead>\n",
       "  <tbody>\n",
       "    <tr>\n",
       "      <th>0</th>\n",
       "      <td>0.407657</td>\n",
       "      <td>0.882850</td>\n",
       "      <td>0.193447</td>\n",
       "      <td>0.9439</td>\n",
       "    </tr>\n",
       "    <tr>\n",
       "      <th>1</th>\n",
       "      <td>0.191709</td>\n",
       "      <td>0.944717</td>\n",
       "      <td>0.139490</td>\n",
       "      <td>0.9588</td>\n",
       "    </tr>\n",
       "    <tr>\n",
       "      <th>2</th>\n",
       "      <td>0.144043</td>\n",
       "      <td>0.958400</td>\n",
       "      <td>0.112574</td>\n",
       "      <td>0.9657</td>\n",
       "    </tr>\n",
       "    <tr>\n",
       "      <th>3</th>\n",
       "      <td>0.116287</td>\n",
       "      <td>0.965833</td>\n",
       "      <td>0.102948</td>\n",
       "      <td>0.9699</td>\n",
       "    </tr>\n",
       "    <tr>\n",
       "      <th>4</th>\n",
       "      <td>0.100128</td>\n",
       "      <td>0.970233</td>\n",
       "      <td>0.088166</td>\n",
       "      <td>0.9736</td>\n",
       "    </tr>\n",
       "    <tr>\n",
       "      <th>5</th>\n",
       "      <td>0.087398</td>\n",
       "      <td>0.974083</td>\n",
       "      <td>0.079895</td>\n",
       "      <td>0.9744</td>\n",
       "    </tr>\n",
       "    <tr>\n",
       "      <th>6</th>\n",
       "      <td>0.076220</td>\n",
       "      <td>0.977200</td>\n",
       "      <td>0.076651</td>\n",
       "      <td>0.9775</td>\n",
       "    </tr>\n",
       "    <tr>\n",
       "      <th>7</th>\n",
       "      <td>0.068841</td>\n",
       "      <td>0.979567</td>\n",
       "      <td>0.069483</td>\n",
       "      <td>0.9791</td>\n",
       "    </tr>\n",
       "    <tr>\n",
       "      <th>8</th>\n",
       "      <td>0.062972</td>\n",
       "      <td>0.980533</td>\n",
       "      <td>0.069768</td>\n",
       "      <td>0.9783</td>\n",
       "    </tr>\n",
       "    <tr>\n",
       "      <th>9</th>\n",
       "      <td>0.056418</td>\n",
       "      <td>0.982000</td>\n",
       "      <td>0.071569</td>\n",
       "      <td>0.9780</td>\n",
       "    </tr>\n",
       "  </tbody>\n",
       "</table>\n",
       "</div>"
      ],
      "text/plain": [
       "       loss  accuracy  val_loss  val_accuracy\n",
       "0  0.407657  0.882850  0.193447        0.9439\n",
       "1  0.191709  0.944717  0.139490        0.9588\n",
       "2  0.144043  0.958400  0.112574        0.9657\n",
       "3  0.116287  0.965833  0.102948        0.9699\n",
       "4  0.100128  0.970233  0.088166        0.9736\n",
       "5  0.087398  0.974083  0.079895        0.9744\n",
       "6  0.076220  0.977200  0.076651        0.9775\n",
       "7  0.068841  0.979567  0.069483        0.9791\n",
       "8  0.062972  0.980533  0.069768        0.9783\n",
       "9  0.056418  0.982000  0.071569        0.9780"
      ]
     },
     "execution_count": 7,
     "metadata": {},
     "output_type": "execute_result"
    }
   ],
   "source": [
    "import pandas as pd\n",
    "\n",
    "history_df = pd.DataFrame(history.history, columns=['loss', 'accuracy', 'val_loss', 'val_accuracy'])\n",
    "history_df"
   ]
  },
  {
   "cell_type": "code",
   "execution_count": 10,
   "id": "0768a329-32af-46df-b516-8910d39965df",
   "metadata": {},
   "outputs": [
    {
     "data": {
      "image/png": "[encoded data removed]",
      "text/plain": [
       "<Figure size 640x480 with 1 Axes>"
      ]
     },
     "metadata": {},
     "output_type": "display_data"
    }
   ],
   "source": [
    "import matplotlib.pyplot as plt\n",
    "\n",
    "history_df['loss'].plot(c='blue', label='Training')\n",
    "history_df['val_loss'].plot(c='green', label='Validation')\n",
    "plt.legend()\n",
    "plt.xlabel('Epochs')\n",
    "plt.ylabel('Loss')\n",
    "plt.show()"
   ]
  },
  {
   "cell_type": "code",
   "execution_count": null,
   "id": "47c83be8-ab8a-4b56-a88c-e9dcbf4623ea",
   "metadata": {},
   "outputs": [],
   "source": []
  }
 ],
 "metadata": {
  "kernelspec": {
   "display_name": "Python 3 (ipykernel)",
   "language": "python",
   "name": "python3"
  },
  "language_info": {
   "codemirror_mode": {
    "name": "ipython",
    "version": 3
   },
   "file_extension": ".py",
   "mimetype": "text/x-python",
   "name": "python",
   "nbconvert_exporter": "python",
   "pygments_lexer": "ipython3",
   "version": "3.11.5"
  }
 },
 "nbformat": 4,
 "nbformat_minor": 5
}
