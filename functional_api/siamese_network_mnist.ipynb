{
 "cells": [
  {
   "cell_type": "code",
   "execution_count": 2,
   "id": "83bfd708-09b2-4f65-8246-ce9529ed542f",
   "metadata": {},
   "outputs": [],
   "source": [
    "import tensorflow as tf\n",
    "from tensorflow.keras.models import Model\n",
    "from tensorflow.keras.layers import Input, Flatten, Dense, Dropout, Lambda\n",
    "from tensorflow.keras.optimizers import RMSprop\n",
    "from tensorflow.keras.datasets import fashion_mnist\n",
    "from tensorflow.keras.utils import plot_model\n",
    "from tensorflow.keras import backend as K\n",
    "\n",
    "import numpy as np\n",
    "import matplotlib.pyplot as plt\n",
    "from PIL import Image, ImageFont, ImageDraw\n",
    "import random"
   ]
  },
  {
   "cell_type": "markdown",
   "id": "e02426ef-b1a7-4f67-8a27-a153c8912450",
   "metadata": {},
   "source": [
    "## Prepare the Dataset\n",
    "First define a few utilities for preparing and visualizing your dataset."
   ]
  },
  {
   "cell_type": "code",
   "execution_count": null,
   "id": "b399e075-4f65-4625-84f1-5ab1c2a4de27",
   "metadata": {},
   "outputs": [],
   "source": [
    "# Create a pairs of images and generate y values if those pair are from the same class\n",
    "def create_pairs(x, digit_indices):\n",
    "    '''Positive and negative pair creation.\n",
    "    Alternates between positive and negative pairs.\n",
    "    '''\n",
    "    pairs = []\n",
    "    labels = []\n",
    "    # Find the safe number of pairs based on the minimum class\n",
    "    n = min([len(digit_indices[d]) for d in range(10)]) - 1\n",
    "\n",
    "    for d in range(10):\n",
    "        for i in range(n):\n",
    "            # Positive pair\n",
    "            z1, z2 = digit_indices[d][i], digit_indices[d][i + 1]\n",
    "            pairs += [[x[z1], x[z2]]]\n",
    "            inc = random.randrange(1, 10)\n",
    "            dn = (d + inc) % 10\n",
    "            # Negative pair\n",
    "            z1, z2 = digit_indices[d][i], digit_indices[dn][i]\n",
    "            pairs += [[x[z1], x[z2]]]\n",
    "            labels += [1, 0]\n",
    "\n",
    "    return np.array(pairs), np.array(labels)\n",
    "\n",
    "# A helper function for generating pairs and their similarity labels\n",
    "def create_pairs_on_set(images, labels):\n",
    "    \"\"\"\n",
    "    function is a helper function that takes in a set of images and their corresponding labels, \n",
    "    then returns pairs of images along with their relationship labels \n",
    "    (either 1 for positive pairs or 0 for negative pairs).\n",
    "    \"\"\"\n",
    "    digit_indices = [np.where(labels == i)[0] for i in range(10)]\n",
    "    pairs, y = create_pairs(images, digit_indices)\n",
    "    y = y.astype(np.float32)\n",
    "\n",
    "    return pairs, y\n",
    "\n"
   ]
  }
 ],
 "metadata": {
  "kernelspec": {
   "display_name": "Python 3 (ipykernel)",
   "language": "python",
   "name": "python3"
  },
  "language_info": {
   "codemirror_mode": {
    "name": "ipython",
    "version": 3
   },
   "file_extension": ".py",
   "mimetype": "text/x-python",
   "name": "python",
   "nbconvert_exporter": "python",
   "pygments_lexer": "ipython3",
   "version": "3.11.5"
  }
 },
 "nbformat": 4,
 "nbformat_minor": 5
}
