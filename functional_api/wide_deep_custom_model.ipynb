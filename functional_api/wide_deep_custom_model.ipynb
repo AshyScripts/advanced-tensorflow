{
 "cells": [
  {
   "cell_type": "markdown",
   "id": "93da7594-54cf-4d3c-826f-7c60c34442ab",
   "metadata": {},
   "source": [
    "## Coding a Wide and Deep Model\n",
    "\n",
    "In this lab, we'll show how you can implement a wide and deep model. We'll first look at how to build it with the Functional API then show how to encapsulate this into a class. Let's get started!"
   ]
  },
  {
   "cell_type": "markdown",
   "id": "7518d6d3-74ac-4415-95b7-6f0929d7ce7a",
   "metadata": {},
   "source": [
    "## Imports"
   ]
  },
  {
   "cell_type": "code",
   "execution_count": 1,
   "id": "191ff9a2-bb72-494a-af88-2790451359d1",
   "metadata": {},
   "outputs": [],
   "source": [
    "import tensorflow as tf\n",
    "from tensorflow.keras.layers import Input, concatenate, Dense\n",
    "from tensorflow.keras import Model\n",
    "from tensorflow.keras.utils import plot_model"
   ]
  },
  {
   "cell_type": "markdown",
   "id": "9436f43c-6fce-4776-b000-c750922fd3d3",
   "metadata": {},
   "source": [
    "## Build the Model\n",
    "\n",
    "Let's implement the wide and deep model as shown in class. As shown below, the Functional API is very flexible in implementing complex models. \n",
    "- You will specify the previous layer when you define a new layer. \n",
    "- When you define the `Model`, you will specify the inputs and output."
   ]
  },
  {
   "cell_type": "markdown",
   "id": "1cd4e86a-f1b8-4af1-a90f-8a64f7be947e",
   "metadata": {},
   "source": [
    "### 1. Keras Functional API"
   ]
  },
  {
   "cell_type": "code",
   "execution_count": 3,
   "id": "7c5b7ce3-332a-42e4-a5f6-9b4b614fa150",
   "metadata": {},
   "outputs": [
    {
     "data": {
      "image/png": "[encoded data removed]",
      "text/plain": [
       "<IPython.core.display.Image object>"
      ]
     },
     "execution_count": 3,
     "metadata": {},
     "output_type": "execute_result"
    }
   ],
   "source": [
    "# Define inputs\n",
    "input_a = Input(shape=[1], name='Deep_input')\n",
    "input_b = Input(shape=[1], name='Wide_input')\n",
    "\n",
    "# Define deep path\n",
    "hidden_1 = Dense(30, activation='relu')(input_a)\n",
    "hidden_2 = Dense(30, activation='relu')(hidden_1)\n",
    "\n",
    "# Define merge path\n",
    "concat = concatenate([input_b, hidden_2])\n",
    "output = Dense(1, name='Output')(concat)\n",
    "\n",
    "# Define another output for the deep path\n",
    "aux_output = Dense(1, name='aux_Output')(hidden_2)\n",
    "\n",
    "# Build the model\n",
    "func_model = Model(inputs=[input_a, input_b], outputs=[output, aux_output])\n",
    "\n",
    "plot_model(func_model)"
   ]
  },
  {
   "cell_type": "markdown",
   "id": "46137905-f112-49c7-95b5-0f7007d85d19",
   "metadata": {},
   "source": [
    "## Implement as a Class\n",
    "\n",
    "Alternatively, you can also implement this same model as a class. \n",
    "- For that, you define a class that inherits from the [Model](https://keras.io/api/models/model/) class.\n",
    "- Inheriting from the existing `Model` class lets you use the Model methods such as `compile()`, `fit()`, `evaluate()`. \n",
    "\n",
    "When inheriting from `Model`, you will want to define at least two functions:\n",
    "- `__init__()`: you will initialize the instance attributes.\n",
    "- `call()`: you will build the network and return the output layers.\n",
    "\n",
    "If you compare the two methods, the structure is very similar, except when using the class, you'll define all the layers in one function, `init`, and connect the layers together in another function, `call`."
   ]
  },
  {
   "cell_type": "code",
   "execution_count": 9,
   "id": "6f9cde7f-f8e4-4c4f-915c-42e0e2c5fd74",
   "metadata": {},
   "outputs": [],
   "source": [
    "# By subclassing the Model class\n",
    "class WideAndDeepModel(Model):\n",
    "    def __init__(self, units=30, activation='relu', **kwargs):\n",
    "        super().__init__(kwargs)\n",
    "        # Define the layers here\n",
    "        self.hidden_1 = Dense(units, activation=activation)\n",
    "        self.hidden_2 = Dense(units, activation=activation)\n",
    "        self.main_output = Dense(1)\n",
    "        self.aux_output = Dense(1)\n",
    "\n",
    "    # Build the model\n",
    "    def call(self, inputs):\n",
    "        input_A, input_B = inputs\n",
    "        hidden_1 = self.hidden_1(input_A)\n",
    "        hidden_2 = self.hidden_2(hidden_1)\n",
    "        concat = concatenate([input_B, hidden_2])\n",
    "        main_output = self.main_output(concat)\n",
    "        aux_output = self.aux_output(hidden_2)\n",
    "        return main_output, aux_output"
   ]
  },
  {
   "cell_type": "code",
   "execution_count": 13,
   "id": "723b89b4-ff39-458f-9c4f-c1c7a78dbeb8",
   "metadata": {},
   "outputs": [],
   "source": [
    "model_class = WideAndDeepModel()"
   ]
  },
  {
   "cell_type": "code",
   "execution_count": null,
   "id": "6692ff9b-8940-4856-90d8-5dda17cb52a5",
   "metadata": {},
   "outputs": [],
   "source": []
  }
 ],
 "metadata": {
  "kernelspec": {
   "display_name": "Python 3 (ipykernel)",
   "language": "python",
   "name": "python3"
  },
  "language_info": {
   "codemirror_mode": {
    "name": "ipython",
    "version": 3
   },
   "file_extension": ".py",
   "mimetype": "text/x-python",
   "name": "python",
   "nbconvert_exporter": "python",
   "pygments_lexer": "ipython3",
   "version": "3.11.5"
  }
 },
 "nbformat": 4,
 "nbformat_minor": 5
}
