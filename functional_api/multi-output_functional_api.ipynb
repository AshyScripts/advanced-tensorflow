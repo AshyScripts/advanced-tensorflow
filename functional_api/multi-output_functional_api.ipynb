{
 "cells": [
  {
   "cell_type": "markdown",
   "id": "8526bbd1-8657-429e-a53b-0c4bc0c38186",
   "metadata": {},
   "source": [
    "## Build a Multi-output Model\n",
    "\n",
    "In this example for a simple dataset, we'll show how you can build models with more than one output. The dataset we will be working on is available from the [UCI Machine Learning Repository](https://archive.ics.uci.edu/ml/datasets/Energy+efficiency). It is an Energy Efficiency dataset which uses the bulding features (e.g. wall area, roof area) as inputs and has two outputs: Cooling Load and Heating Load. Let's see how we can build a model to train on this data."
   ]
  },
  {
   "cell_type": "code",
   "execution_count": null,
   "id": "07da1662-40f0-43e8-8deb-4358d37b09c8",
   "metadata": {},
   "outputs": [],
   "source": []
  }
 ],
 "metadata": {
  "kernelspec": {
   "display_name": "Python 3 (ipykernel)",
   "language": "python",
   "name": "python3"
  },
  "language_info": {
   "codemirror_mode": {
    "name": "ipython",
    "version": 3
   },
   "file_extension": ".py",
   "mimetype": "text/x-python",
   "name": "python",
   "nbconvert_exporter": "python",
   "pygments_lexer": "ipython3",
   "version": "3.11.5"
  }
 },
 "nbformat": 4,
 "nbformat_minor": 5
}
