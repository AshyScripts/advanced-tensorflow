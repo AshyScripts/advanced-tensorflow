{
 "cells": [
  {
   "cell_type": "markdown",
   "id": "d51572b7-00cf-4763-ac27-6a8d489a82e7",
   "metadata": {},
   "source": [
    "## Multiple Output Models using the Keras Functional API\n",
    "we will use the Keras functional API to train a model to predict two outputs. For this simple project, we will use the **[Wine Quality Dataset](https://archive.ics.uci.edu/ml/datasets/Wine+Quality)** from the **UCI machine learning repository**. It has separate datasets for red wine and white wine.\n",
    "\n",
    "Normally, the wines are classified into one of the quality ratings specified in the attributes. In this project, we will combine the two datasets to predict the wine quality and whether the wine is red or white solely from the attributes. \n",
    "\n",
    "we will model wine quality estimations as a regression problem and wine type detection as a binary classification problem."
   ]
  },
  {
   "cell_type": "markdown",
   "id": "66dc85c7-bb1a-4176-a213-8189b15f5338",
   "metadata": {},
   "source": [
    "## Imports"
   ]
  },
  {
   "cell_type": "code",
   "execution_count": 3,
   "id": "e3c83dd2-eae0-4e89-b769-a6eb76637599",
   "metadata": {},
   "outputs": [],
   "source": [
    "import tensorflow as tf\n",
    "from tensorflow.keras.models import Model\n",
    "from tensorflow.keras.layers import Dense, Input\n",
    "\n",
    "import numpy as np\n",
    "import matplotlib.pyplot as plt\n",
    "import pandas as pd\n",
    "from sklearn.model_selection import train_test_split\n",
    "from sklearn.metrics import confusion_matrix, ConfusionMatrixDisplay\n",
    "import itertools"
   ]
  },
  {
   "cell_type": "code",
   "execution_count": 4,
   "id": "3a4166fb-ddc7-4124-ae37-749ca3f1d1cb",
   "metadata": {},
   "outputs": [],
   "source": [
    "# URL of the white wine dataset\n",
    "URI = '../data/winequality-white.csv'\n",
    "\n",
    "# load the dataset from the URL\n",
    "white_df = pd.read_csv(URI, sep=\";\")\n",
    "\n",
    "# fill the `is_red` column with zeros.\n",
    "white_df[\"is_red\"] = 0\n",
    "\n",
    "# keep only the first of duplicate items\n",
    "white_df = white_df.drop_duplicates(keep='first')"
   ]
  },
  {
   "cell_type": "code",
   "execution_count": 5,
   "id": "5111b823-d90e-4274-8365-11357c2accc5",
   "metadata": {},
   "outputs": [
    {
     "data": {
      "text/plain": [
       "Index(['fixed acidity', 'volatile acidity', 'citric acid', 'residual sugar',\n",
       "       'chlorides', 'free sulfur dioxide', 'total sulfur dioxide', 'density',\n",
       "       'pH', 'sulphates', 'alcohol', 'quality', 'is_red'],\n",
       "      dtype='object')"
      ]
     },
     "execution_count": 5,
     "metadata": {},
     "output_type": "execute_result"
    }
   ],
   "source": [
    "white_df.columns"
   ]
  },
  {
   "cell_type": "code",
   "execution_count": 7,
   "id": "e095e95e-1ecd-400b-96c5-2346e838f29a",
   "metadata": {},
   "outputs": [],
   "source": [
    "# URL of the red wine dataset\n",
    "URI = '../data/winequality-red.csv'\n",
    "\n",
    "# load the dataset from the URL\n",
    "red_df = pd.read_csv(URI, sep=\";\")\n",
    "\n",
    "# fill the `is_red` column with ones.\n",
    "red_df[\"is_red\"] = 1\n",
    "\n",
    "# keep only the first of duplicate items\n",
    "red_df = red_df.drop_duplicates(keep='first')"
   ]
  },
  {
   "cell_type": "code",
   "execution_count": 8,
   "id": "2e8a41e0-cc2f-4e29-b5e2-7db19d62beb1",
   "metadata": {},
   "outputs": [
    {
     "data": {
      "text/plain": [
       "Index(['fixed acidity', 'volatile acidity', 'citric acid', 'residual sugar',\n",
       "       'chlorides', 'free sulfur dioxide', 'total sulfur dioxide', 'density',\n",
       "       'pH', 'sulphates', 'alcohol', 'quality', 'is_red'],\n",
       "      dtype='object')"
      ]
     },
     "execution_count": 8,
     "metadata": {},
     "output_type": "execute_result"
    }
   ],
   "source": [
    "red_df.columns"
   ]
  },
  {
   "cell_type": "markdown",
   "id": "4d33cbc8-4495-4831-b8fd-33ba251ad856",
   "metadata": {},
   "source": [
    "### Concatenate the datasets\n",
    "\n",
    "Next, concatenate the red and white wine dataframes."
   ]
  },
  {
   "cell_type": "code",
   "execution_count": 9,
   "id": "f0e765bc-c140-4e7c-b628-909c7c1ac029",
   "metadata": {},
   "outputs": [],
   "source": [
    "df = pd.concat([red_df, white_df], ignore_index=True)"
   ]
  },
  {
   "cell_type": "code",
   "execution_count": 10,
   "id": "15e28c31-6bf9-4d66-9afb-f23895cad90a",
   "metadata": {},
   "outputs": [
    {
     "name": "stdout",
     "output_type": "stream",
     "text": [
      "9.4\n",
      "9.5\n"
     ]
    }
   ],
   "source": [
    "print(df.alcohol[0])\n",
    "print(df.alcohol[100])\n",
    "\n",
    "# 9.4\n",
    "# 9.5"
   ]
  },
  {
   "cell_type": "code",
   "execution_count": 11,
   "id": "91db13c7-2a16-428c-8740-0c5839bb76c6",
   "metadata": {},
   "outputs": [],
   "source": [
    "# Shuffling the datset\n",
    "df = df.iloc[np.random.permutation(len(df))]"
   ]
  },
  {
   "cell_type": "markdown",
   "id": "fbcbfb3b-84f2-4f85-8497-99a6720d90a6",
   "metadata": {},
   "source": [
    "This will chart the quality of the wines."
   ]
  },
  {
   "cell_type": "code",
   "execution_count": 12,
   "id": "c8953aa7-529d-4d7e-8b37-5233064df4cc",
   "metadata": {},
   "outputs": [
    {
     "data": {
      "image/png": "[encoded data removed]",
      "text/plain": [
       "<Figure size 640x480 with 1 Axes>"
      ]
     },
     "metadata": {},
     "output_type": "display_data"
    }
   ],
   "source": [
    "df['quality'].hist(bins=20);"
   ]
  },
  {
   "cell_type": "markdown",
   "id": "173faf39-ce07-4183-9eae-09c4b0dc13f1",
   "metadata": {},
   "source": [
    "### Imbalanced data (TODO)\n",
    "You can see from the plot above that the wine quality dataset is imbalanced. \n",
    "- Since there are very few observations with quality equal to 3, 4, 8 and 9, you can drop these observations from your dataset. \n",
    "- You can do this by removing data belonging to all classes except those > 4 and < 8."
   ]
  },
  {
   "cell_type": "code",
   "execution_count": 13,
   "id": "e714ddf4-78f1-47c6-bf0c-45647efeb433",
   "metadata": {},
   "outputs": [],
   "source": [
    "# get data with wine quality greater than 4 and less than 8\n",
    "df = df[(df['quality'] > 4) & (df['quality'] < 8)]\n",
    "\n",
    "# reset index and drop the old one\n",
    "df = df.reset_index(drop=True)"
   ]
  },
  {
   "cell_type": "code",
   "execution_count": 14,
   "id": "3ea6629c-7498-4fde-ab36-099747a3abdc",
   "metadata": {},
   "outputs": [
    {
     "data": {
      "image/png": "[encoded data removed]",
      "text/plain": [
       "<Figure size 640x480 with 1 Axes>"
      ]
     },
     "metadata": {},
     "output_type": "display_data"
    }
   ],
   "source": [
    "df['quality'].hist(bins=20);"
   ]
  },
  {
   "cell_type": "markdown",
   "id": "d2ace2db-50e3-41e4-9e05-03eb2181126d",
   "metadata": {},
   "source": [
    "### Train Test Split (TODO)\n",
    "\n",
    "Next, you can split the datasets into training, test and validation datasets.\n",
    "- The data frame should be split 80:20 into `train` and `test` sets.\n",
    "- The resulting `train` should then be split 80:20 into `train` and `val` sets.\n",
    "- The `train_test_split` parameter `test_size` takes a float value that ranges between 0. and 1, and represents the proportion of the dataset that is allocated to the test set.  The rest of the data is allocated to the training set."
   ]
  },
  {
   "cell_type": "code",
   "execution_count": 15,
   "id": "d3db9641-16cb-41d7-b8cb-89fbcbf6c0b5",
   "metadata": {},
   "outputs": [],
   "source": [
    "# split df into 80:20 train and test sets\n",
    "train, test = train_test_split(df, test_size=0.2, random_state = 1)\n",
    "                               \n",
    "# split train into 80:20 train and val sets\n",
    "train, val = train_test_split(train, test_size=0.2, random_state = 1)"
   ]
  },
  {
   "cell_type": "markdown",
   "id": "020b2ebf-7351-48c4-acaa-6175e7985f2d",
   "metadata": {},
   "source": [
    "Here's where we can explore the training stats. You can pop the labels 'is_red' and 'quality' from the data as these will be used as the labels"
   ]
  },
  {
   "cell_type": "code",
   "execution_count": 16,
   "id": "8ec9aa7d-6dd3-4d61-97d5-542e01c17cae",
   "metadata": {},
   "outputs": [],
   "source": [
    "train_stats = train.describe()\n",
    "train_stats.pop('is_red')\n",
    "train_stats.pop('quality')\n",
    "train_stats = train_stats.transpose()"
   ]
  },
  {
   "cell_type": "code",
   "execution_count": 17,
   "id": "91f2bde2-1a37-4718-8eee-061786c20eac",
   "metadata": {},
   "outputs": [
    {
     "data": {
      "text/html": [
       "<div>\n",
       "<style scoped>\n",
       "    .dataframe tbody tr th:only-of-type {\n",
       "        vertical-align: middle;\n",
       "    }\n",
       "\n",
       "    .dataframe tbody tr th {\n",
       "        vertical-align: top;\n",
       "    }\n",
       "\n",
       "    .dataframe thead th {\n",
       "        text-align: right;\n",
       "    }\n",
       "</style>\n",
       "<table border=\"1\" class=\"dataframe\">\n",
       "  <thead>\n",
       "    <tr style=\"text-align: right;\">\n",
       "      <th></th>\n",
       "      <th>count</th>\n",
       "      <th>mean</th>\n",
       "      <th>std</th>\n",
       "      <th>min</th>\n",
       "      <th>25%</th>\n",
       "      <th>50%</th>\n",
       "      <th>75%</th>\n",
       "      <th>max</th>\n",
       "    </tr>\n",
       "  </thead>\n",
       "  <tbody>\n",
       "    <tr>\n",
       "      <th>fixed acidity</th>\n",
       "      <td>3155.0</td>\n",
       "      <td>7.207258</td>\n",
       "      <td>1.330684</td>\n",
       "      <td>4.40000</td>\n",
       "      <td>6.40000</td>\n",
       "      <td>6.90000</td>\n",
       "      <td>7.70000</td>\n",
       "      <td>15.90000</td>\n",
       "    </tr>\n",
       "    <tr>\n",
       "      <th>volatile acidity</th>\n",
       "      <td>3155.0</td>\n",
       "      <td>0.338645</td>\n",
       "      <td>0.160104</td>\n",
       "      <td>0.08000</td>\n",
       "      <td>0.23000</td>\n",
       "      <td>0.29000</td>\n",
       "      <td>0.41000</td>\n",
       "      <td>1.33000</td>\n",
       "    </tr>\n",
       "    <tr>\n",
       "      <th>citric acid</th>\n",
       "      <td>3155.0</td>\n",
       "      <td>0.320634</td>\n",
       "      <td>0.147787</td>\n",
       "      <td>0.00000</td>\n",
       "      <td>0.25000</td>\n",
       "      <td>0.31000</td>\n",
       "      <td>0.40000</td>\n",
       "      <td>1.66000</td>\n",
       "    </tr>\n",
       "    <tr>\n",
       "      <th>residual sugar</th>\n",
       "      <td>3155.0</td>\n",
       "      <td>5.088526</td>\n",
       "      <td>4.442820</td>\n",
       "      <td>0.60000</td>\n",
       "      <td>1.80000</td>\n",
       "      <td>2.80000</td>\n",
       "      <td>7.50000</td>\n",
       "      <td>26.05000</td>\n",
       "    </tr>\n",
       "    <tr>\n",
       "      <th>chlorides</th>\n",
       "      <td>3155.0</td>\n",
       "      <td>0.056460</td>\n",
       "      <td>0.035461</td>\n",
       "      <td>0.01200</td>\n",
       "      <td>0.03800</td>\n",
       "      <td>0.04700</td>\n",
       "      <td>0.06600</td>\n",
       "      <td>0.61100</td>\n",
       "    </tr>\n",
       "    <tr>\n",
       "      <th>free sulfur dioxide</th>\n",
       "      <td>3155.0</td>\n",
       "      <td>30.303011</td>\n",
       "      <td>17.284201</td>\n",
       "      <td>1.00000</td>\n",
       "      <td>17.00000</td>\n",
       "      <td>28.00000</td>\n",
       "      <td>41.00000</td>\n",
       "      <td>131.00000</td>\n",
       "    </tr>\n",
       "    <tr>\n",
       "      <th>total sulfur dioxide</th>\n",
       "      <td>3155.0</td>\n",
       "      <td>115.000000</td>\n",
       "      <td>56.279275</td>\n",
       "      <td>6.00000</td>\n",
       "      <td>76.00000</td>\n",
       "      <td>118.00000</td>\n",
       "      <td>154.00000</td>\n",
       "      <td>344.00000</td>\n",
       "    </tr>\n",
       "    <tr>\n",
       "      <th>density</th>\n",
       "      <td>3155.0</td>\n",
       "      <td>0.994566</td>\n",
       "      <td>0.002885</td>\n",
       "      <td>0.98711</td>\n",
       "      <td>0.99224</td>\n",
       "      <td>0.99471</td>\n",
       "      <td>0.99679</td>\n",
       "      <td>1.00369</td>\n",
       "    </tr>\n",
       "    <tr>\n",
       "      <th>pH</th>\n",
       "      <td>3155.0</td>\n",
       "      <td>3.224574</td>\n",
       "      <td>0.158990</td>\n",
       "      <td>2.72000</td>\n",
       "      <td>3.12000</td>\n",
       "      <td>3.22000</td>\n",
       "      <td>3.32000</td>\n",
       "      <td>4.01000</td>\n",
       "    </tr>\n",
       "    <tr>\n",
       "      <th>sulphates</th>\n",
       "      <td>3155.0</td>\n",
       "      <td>0.532577</td>\n",
       "      <td>0.143071</td>\n",
       "      <td>0.26000</td>\n",
       "      <td>0.44000</td>\n",
       "      <td>0.51000</td>\n",
       "      <td>0.60000</td>\n",
       "      <td>1.62000</td>\n",
       "    </tr>\n",
       "    <tr>\n",
       "      <th>alcohol</th>\n",
       "      <td>3155.0</td>\n",
       "      <td>10.529437</td>\n",
       "      <td>1.166767</td>\n",
       "      <td>8.00000</td>\n",
       "      <td>9.50000</td>\n",
       "      <td>10.40000</td>\n",
       "      <td>11.30000</td>\n",
       "      <td>14.90000</td>\n",
       "    </tr>\n",
       "  </tbody>\n",
       "</table>\n",
       "</div>"
      ],
      "text/plain": [
       "                       count        mean        std      min       25%  \\\n",
       "fixed acidity         3155.0    7.207258   1.330684  4.40000   6.40000   \n",
       "volatile acidity      3155.0    0.338645   0.160104  0.08000   0.23000   \n",
       "citric acid           3155.0    0.320634   0.147787  0.00000   0.25000   \n",
       "residual sugar        3155.0    5.088526   4.442820  0.60000   1.80000   \n",
       "chlorides             3155.0    0.056460   0.035461  0.01200   0.03800   \n",
       "free sulfur dioxide   3155.0   30.303011  17.284201  1.00000  17.00000   \n",
       "total sulfur dioxide  3155.0  115.000000  56.279275  6.00000  76.00000   \n",
       "density               3155.0    0.994566   0.002885  0.98711   0.99224   \n",
       "pH                    3155.0    3.224574   0.158990  2.72000   3.12000   \n",
       "sulphates             3155.0    0.532577   0.143071  0.26000   0.44000   \n",
       "alcohol               3155.0   10.529437   1.166767  8.00000   9.50000   \n",
       "\n",
       "                            50%        75%        max  \n",
       "fixed acidity           6.90000    7.70000   15.90000  \n",
       "volatile acidity        0.29000    0.41000    1.33000  \n",
       "citric acid             0.31000    0.40000    1.66000  \n",
       "residual sugar          2.80000    7.50000   26.05000  \n",
       "chlorides               0.04700    0.06600    0.61100  \n",
       "free sulfur dioxide    28.00000   41.00000  131.00000  \n",
       "total sulfur dioxide  118.00000  154.00000  344.00000  \n",
       "density                 0.99471    0.99679    1.00369  \n",
       "pH                      3.22000    3.32000    4.01000  \n",
       "sulphates               0.51000    0.60000    1.62000  \n",
       "alcohol                10.40000   11.30000   14.90000  "
      ]
     },
     "execution_count": 17,
     "metadata": {},
     "output_type": "execute_result"
    }
   ],
   "source": [
    "train_stats"
   ]
  },
  {
   "cell_type": "markdown",
   "id": "35b23f43-4a70-4196-a4b0-a576be9c09db",
   "metadata": {},
   "source": [
    "### Get the labels\n",
    "\n",
    "The features and labels are currently in the same dataframe.\n",
    "- We will want to store the label columns `is_red` and `quality` separately from the feature columns.  \n",
    "- The following function, `format_output`, gets these two columns from the dataframe.\n",
    "- `format_output` also formats the data into numpy arrays. \n",
    "- We use the `format_output` and apply it to the `train`, `val` and `test` sets to get dataframes for the labels."
   ]
  },
  {
   "cell_type": "code",
   "execution_count": 18,
   "id": "9c1ec7b7-1ba9-4090-a33f-ec20baf6c672",
   "metadata": {},
   "outputs": [],
   "source": [
    "def format_output(data):\n",
    "    is_red = data.pop('is_red')\n",
    "    is_red = np.array(is_red)\n",
    "    quality = data.pop('quality')\n",
    "    quality = np.array(quality)\n",
    "    return (quality, is_red)"
   ]
  },
  {
   "cell_type": "code",
   "execution_count": 19,
   "id": "187b0ada-1883-4211-842a-55de7b9c59f6",
   "metadata": {},
   "outputs": [],
   "source": [
    "# format the output of the train set\n",
    "train_Y = format_output(train)\n",
    "\n",
    "# format the output of the val set\n",
    "val_Y = format_output(val)\n",
    "    \n",
    "# format the output of the test set\n",
    "test_Y = format_output(test)"
   ]
  },
  {
   "cell_type": "markdown",
   "id": "871962fd-114a-470d-afb6-bad105890f53",
   "metadata": {},
   "source": [
    "Notice that after you get the labels, the `train`, `val` and `test` dataframes no longer contain the label columns, and contain just the feature columns.\n",
    "- This is because we used `.pop` in the `format_output` function."
   ]
  },
  {
   "cell_type": "code",
   "execution_count": 20,
   "id": "b7f6a983-7cdf-456e-9b18-0e1fc1174081",
   "metadata": {},
   "outputs": [
    {
     "data": {
      "text/html": [
       "<div>\n",
       "<style scoped>\n",
       "    .dataframe tbody tr th:only-of-type {\n",
       "        vertical-align: middle;\n",
       "    }\n",
       "\n",
       "    .dataframe tbody tr th {\n",
       "        vertical-align: top;\n",
       "    }\n",
       "\n",
       "    .dataframe thead th {\n",
       "        text-align: right;\n",
       "    }\n",
       "</style>\n",
       "<table border=\"1\" class=\"dataframe\">\n",
       "  <thead>\n",
       "    <tr style=\"text-align: right;\">\n",
       "      <th></th>\n",
       "      <th>fixed acidity</th>\n",
       "      <th>volatile acidity</th>\n",
       "      <th>citric acid</th>\n",
       "      <th>residual sugar</th>\n",
       "      <th>chlorides</th>\n",
       "      <th>free sulfur dioxide</th>\n",
       "      <th>total sulfur dioxide</th>\n",
       "      <th>density</th>\n",
       "      <th>pH</th>\n",
       "      <th>sulphates</th>\n",
       "      <th>alcohol</th>\n",
       "    </tr>\n",
       "  </thead>\n",
       "  <tbody>\n",
       "    <tr>\n",
       "      <th>225</th>\n",
       "      <td>6.7</td>\n",
       "      <td>0.34</td>\n",
       "      <td>0.30</td>\n",
       "      <td>15.6</td>\n",
       "      <td>0.054</td>\n",
       "      <td>51.0</td>\n",
       "      <td>196.0</td>\n",
       "      <td>0.99820</td>\n",
       "      <td>3.19</td>\n",
       "      <td>0.49</td>\n",
       "      <td>9.3</td>\n",
       "    </tr>\n",
       "    <tr>\n",
       "      <th>3557</th>\n",
       "      <td>6.4</td>\n",
       "      <td>0.31</td>\n",
       "      <td>0.40</td>\n",
       "      <td>6.4</td>\n",
       "      <td>0.039</td>\n",
       "      <td>39.0</td>\n",
       "      <td>191.0</td>\n",
       "      <td>0.99513</td>\n",
       "      <td>3.14</td>\n",
       "      <td>0.52</td>\n",
       "      <td>9.8</td>\n",
       "    </tr>\n",
       "    <tr>\n",
       "      <th>3825</th>\n",
       "      <td>6.6</td>\n",
       "      <td>0.39</td>\n",
       "      <td>0.39</td>\n",
       "      <td>11.9</td>\n",
       "      <td>0.057</td>\n",
       "      <td>51.0</td>\n",
       "      <td>221.0</td>\n",
       "      <td>0.99851</td>\n",
       "      <td>3.26</td>\n",
       "      <td>0.51</td>\n",
       "      <td>8.9</td>\n",
       "    </tr>\n",
       "    <tr>\n",
       "      <th>1740</th>\n",
       "      <td>6.5</td>\n",
       "      <td>0.14</td>\n",
       "      <td>0.33</td>\n",
       "      <td>7.6</td>\n",
       "      <td>0.050</td>\n",
       "      <td>53.0</td>\n",
       "      <td>189.0</td>\n",
       "      <td>0.99660</td>\n",
       "      <td>3.25</td>\n",
       "      <td>0.49</td>\n",
       "      <td>8.6</td>\n",
       "    </tr>\n",
       "    <tr>\n",
       "      <th>1221</th>\n",
       "      <td>5.4</td>\n",
       "      <td>0.22</td>\n",
       "      <td>0.35</td>\n",
       "      <td>6.5</td>\n",
       "      <td>0.029</td>\n",
       "      <td>26.0</td>\n",
       "      <td>87.0</td>\n",
       "      <td>0.99092</td>\n",
       "      <td>3.29</td>\n",
       "      <td>0.44</td>\n",
       "      <td>12.5</td>\n",
       "    </tr>\n",
       "  </tbody>\n",
       "</table>\n",
       "</div>"
      ],
      "text/plain": [
       "      fixed acidity  volatile acidity  citric acid  residual sugar  chlorides  \\\n",
       "225             6.7              0.34         0.30            15.6      0.054   \n",
       "3557            6.4              0.31         0.40             6.4      0.039   \n",
       "3825            6.6              0.39         0.39            11.9      0.057   \n",
       "1740            6.5              0.14         0.33             7.6      0.050   \n",
       "1221            5.4              0.22         0.35             6.5      0.029   \n",
       "\n",
       "      free sulfur dioxide  total sulfur dioxide  density    pH  sulphates  \\\n",
       "225                  51.0                 196.0  0.99820  3.19       0.49   \n",
       "3557                 39.0                 191.0  0.99513  3.14       0.52   \n",
       "3825                 51.0                 221.0  0.99851  3.26       0.51   \n",
       "1740                 53.0                 189.0  0.99660  3.25       0.49   \n",
       "1221                 26.0                  87.0  0.99092  3.29       0.44   \n",
       "\n",
       "      alcohol  \n",
       "225       9.3  \n",
       "3557      9.8  \n",
       "3825      8.9  \n",
       "1740      8.6  \n",
       "1221     12.5  "
      ]
     },
     "execution_count": 20,
     "metadata": {},
     "output_type": "execute_result"
    }
   ],
   "source": [
    "train.head()"
   ]
  },
  {
   "cell_type": "markdown",
   "id": "e4049173-0d28-4e23-b867-f1237d4f54fa",
   "metadata": {},
   "source": [
    "### Normalize the data"
   ]
  },
  {
   "cell_type": "code",
   "execution_count": 21,
   "id": "87afa94a-ad6a-4652-b550-46d630557a6f",
   "metadata": {},
   "outputs": [],
   "source": [
    "def norm(x):\n",
    "    return (x - train_stats['mean']) / train_stats['std']"
   ]
  },
  {
   "cell_type": "code",
   "execution_count": 22,
   "id": "bcba4644-e1ce-4b94-bcc2-d0ba4258420e",
   "metadata": {},
   "outputs": [],
   "source": [
    "# normalize the train set\n",
    "norm_train_X = norm(train)\n",
    "    \n",
    "# normalize the val set\n",
    "norm_val_X = norm(val)\n",
    "    \n",
    "# normalize the test set\n",
    "norm_test_X = norm(test)"
   ]
  },
  {
   "cell_type": "markdown",
   "id": "33556646-9460-4783-8614-878994c6b163",
   "metadata": {},
   "source": [
    "## Define the Model\n",
    "\n",
    "Define the model using the functional API. The base model will be 2 `Dense` layers of 128 neurons each, and have the `'relu'` activation.\n",
    "- Check out the documentation for [tf.keras.layers.Dense](https://www.tensorflow.org/api_docs/python/tf/keras/layers/Dense)"
   ]
  },
  {
   "cell_type": "code",
   "execution_count": 23,
   "id": "5d9e6a44-c341-4624-a748-4e64bd8a2fbe",
   "metadata": {},
   "outputs": [],
   "source": [
    "def base_model(inputs):\n",
    "    \n",
    "    # connect a Dense layer with 128 neurons and a relu activation\n",
    "    x = Dense(units=128, activation=tf.nn.relu, name='base_first_dense')(inputs)\n",
    "    \n",
    "    # connect another Dense layer with 128 neurons and a relu activation\n",
    "    x = Dense(units=128, activation=tf.nn.relu, name='base_second_dense')(x)\n",
    "    return x"
   ]
  },
  {
   "cell_type": "markdown",
   "id": "8a43636f-aa1f-42d0-b2fa-5aff146c6745",
   "metadata": {},
   "source": [
    "# Define output layers of the model\n",
    "\n",
    "We will add output layers to the base model. \n",
    "- The model will need two outputs.\n",
    "\n",
    "One output layer will predict wine quality, which is a numeric value.\n",
    "- Define a `Dense` layer with 1 neuron.\n",
    "- Since this is a regression output, the activation can be left as its default value `None`.\n",
    "\n",
    "The other output layer will predict the wine type, which is either red `1` or not red `0` (white).\n",
    "- Define a `Dense` layer with 1 neuron.\n",
    "- Since there are two possible categories, you can use a sigmoid activation for binary classification.\n",
    "\n",
    "Define the `Model`\n",
    "- Define the `Model` object, and set the following parameters:\n",
    "  - `inputs`: pass in the inputs to the model as a list.\n",
    "  - `outputs`: pass in a list of the outputs that you just defined: wine quality, then wine type.\n",
    "  - **Note**: we need to list the wine quality before wine type in the outputs, as this will affect the calculated loss if you choose the other order."
   ]
  },
  {
   "cell_type": "code",
   "execution_count": 24,
   "id": "95cf07b5-2c4b-4823-9c9f-6c46cd7b2da5",
   "metadata": {},
   "outputs": [],
   "source": [
    "def final_model(inputs):\n",
    "    \n",
    "    # get the base model\n",
    "    x = base_model(inputs)\n",
    "\n",
    "    # connect the output Dense layer for regression\n",
    "    wine_quality = Dense(units='1', name='wine_quality')(x)\n",
    "\n",
    "    # connect the output Dense layer for classification. this will use a sigmoid activation.\n",
    "    wine_type = Dense(units='1', activation='sigmoid', name='wine_type')(x)\n",
    "\n",
    "    # define the model using the input and output layers\n",
    "    model = Model(inputs=inputs, outputs=[wine_quality, wine_type])\n",
    "\n",
    "    return model"
   ]
  },
  {
   "cell_type": "markdown",
   "id": "517cac73-4f1b-4d4f-b4a1-2d9ff51da9d7",
   "metadata": {},
   "source": [
    "## Compiling the Model\n",
    "\n",
    "Next, we compile the model. When setting the loss parameter of `model.compile`, we're setting the loss for each of the two outputs (wine quality and wine type).\n",
    "\n",
    "To set more than one loss, use a dictionary of key-value pairs.\n",
    "\n",
    "- You can look at the docs for the losses [here](https://www.tensorflow.org/api_docs/python/tf/keras/losses#functions).\n",
    "\n",
    "- wine_type: Since you will be performing binary classification on wine type, you should use the binary crossentropy loss function for it.  Please pass this in as a string.  \n",
    "  - **Hint**, this should be all lowercase.  In the documentation, you'll see this under the \"Functions\" section, not the \"Classes\" section.\n",
    "- wine_quality: since this is a regression output, use the mean squared error.  Please pass it in as a string, all lowercase.\n",
    "  - **Hint**: You may notice that there are two aliases for mean squared error.  Please use the shorter name.\n",
    " \n",
    "We will also set the metric for each of the two outputs.  Again, to set metrics for two or more outputs, use a dictionary with key value pairs.\n",
    "- The metrics documentation is linked [here](https://www.tensorflow.org/api_docs/python/tf/keras/metrics).\n",
    "- For the wine type, please set it to accuracy as a string, all lowercase.\n",
    "- For wine quality, please use the root mean squared error.  Instead of a string, you'll set it to an instance of the class [RootMeanSquaredError](https://www.tensorflow.org/api_docs/python/tf/keras/metrics/RootMeanSquaredError), which belongs to the tf.keras.metrics module."
   ]
  },
  {
   "cell_type": "code",
   "execution_count": 25,
   "id": "7501d716-a7d2-410e-bcb6-8f4b38a1d523",
   "metadata": {},
   "outputs": [
    {
     "name": "stderr",
     "output_type": "stream",
     "text": [
      "WARNING:absl:At this time, the v2.11+ optimizer `tf.keras.optimizers.RMSprop` runs slowly on M1/M2 Macs, please use the legacy Keras optimizer instead, located at `tf.keras.optimizers.legacy.RMSprop`.\n",
      "WARNING:absl:`lr` is deprecated in Keras optimizer, please use `learning_rate` or use the legacy optimizer, e.g.,tf.keras.optimizers.legacy.RMSprop.\n"
     ]
    }
   ],
   "source": [
    "inputs = tf.keras.layers.Input(shape=(11,))\n",
    "rms = tf.keras.optimizers.RMSprop(lr=0.0001)\n",
    "model = final_model(inputs)\n",
    "\n",
    "model.compile(optimizer=rms, \n",
    "              loss = {'wine_type' : 'binary_crossentropy',\n",
    "                      'wine_quality' : 'mse',\n",
    "                     },\n",
    "              metrics = {'wine_type' : 'accuracy',\n",
    "                         'wine_quality': tf.keras.metrics.RootMeanSquaredError()\n",
    "                       }\n",
    "             )"
   ]
  },
  {
   "cell_type": "code",
   "execution_count": 26,
   "id": "15b3023c-7949-4b40-b85d-b0cee8a3342f",
   "metadata": {},
   "outputs": [
    {
     "name": "stdout",
     "output_type": "stream",
     "text": [
      "Epoch 1/40\n",
      "99/99 [==============================] - 0s 2ms/step - loss: 4.5859 - wine_quality_loss: 4.2330 - wine_type_loss: 0.3528 - wine_quality_root_mean_squared_error: 2.0574 - wine_type_accuracy: 0.8586 - val_loss: 1.3086 - val_wine_quality_loss: 1.2115 - val_wine_type_loss: 0.0970 - val_wine_quality_root_mean_squared_error: 1.1007 - val_wine_type_accuracy: 0.9899\n",
      "Epoch 2/40\n",
      "99/99 [==============================] - 0s 773us/step - loss: 1.0945 - wine_quality_loss: 1.0330 - wine_type_loss: 0.0614 - wine_quality_root_mean_squared_error: 1.0164 - wine_type_accuracy: 0.9908 - val_loss: 0.7983 - val_wine_quality_loss: 0.7504 - val_wine_type_loss: 0.0479 - val_wine_quality_root_mean_squared_error: 0.8663 - val_wine_type_accuracy: 0.9911\n",
      "Epoch 3/40\n",
      "99/99 [==============================] - 0s 803us/step - loss: 0.7168 - wine_quality_loss: 0.6782 - wine_type_loss: 0.0386 - wine_quality_root_mean_squared_error: 0.8235 - wine_type_accuracy: 0.9921 - val_loss: 0.5985 - val_wine_quality_loss: 0.5606 - val_wine_type_loss: 0.0379 - val_wine_quality_root_mean_squared_error: 0.7487 - val_wine_type_accuracy: 0.9949\n",
      "Epoch 4/40\n",
      "99/99 [==============================] - 0s 778us/step - loss: 0.5445 - wine_quality_loss: 0.5121 - wine_type_loss: 0.0324 - wine_quality_root_mean_squared_error: 0.7156 - wine_type_accuracy: 0.9924 - val_loss: 0.5321 - val_wine_quality_loss: 0.4978 - val_wine_type_loss: 0.0343 - val_wine_quality_root_mean_squared_error: 0.7055 - val_wine_type_accuracy: 0.9949\n",
      "Epoch 5/40\n",
      "99/99 [==============================] - 0s 785us/step - loss: 0.4771 - wine_quality_loss: 0.4477 - wine_type_loss: 0.0294 - wine_quality_root_mean_squared_error: 0.6691 - wine_type_accuracy: 0.9937 - val_loss: 0.4421 - val_wine_quality_loss: 0.4070 - val_wine_type_loss: 0.0351 - val_wine_quality_root_mean_squared_error: 0.6379 - val_wine_type_accuracy: 0.9924\n",
      "Epoch 6/40\n",
      "99/99 [==============================] - 0s 760us/step - loss: 0.4355 - wine_quality_loss: 0.4083 - wine_type_loss: 0.0271 - wine_quality_root_mean_squared_error: 0.6390 - wine_type_accuracy: 0.9940 - val_loss: 0.6006 - val_wine_quality_loss: 0.5658 - val_wine_type_loss: 0.0348 - val_wine_quality_root_mean_squared_error: 0.7522 - val_wine_type_accuracy: 0.9924\n",
      "Epoch 7/40\n",
      "99/99 [==============================] - 0s 736us/step - loss: 0.4147 - wine_quality_loss: 0.3889 - wine_type_loss: 0.0258 - wine_quality_root_mean_squared_error: 0.6236 - wine_type_accuracy: 0.9940 - val_loss: 0.5057 - val_wine_quality_loss: 0.4749 - val_wine_type_loss: 0.0308 - val_wine_quality_root_mean_squared_error: 0.6891 - val_wine_type_accuracy: 0.9949\n",
      "Epoch 8/40\n",
      "99/99 [==============================] - 0s 757us/step - loss: 0.4023 - wine_quality_loss: 0.3782 - wine_type_loss: 0.0240 - wine_quality_root_mean_squared_error: 0.6150 - wine_type_accuracy: 0.9946 - val_loss: 0.4177 - val_wine_quality_loss: 0.3875 - val_wine_type_loss: 0.0302 - val_wine_quality_root_mean_squared_error: 0.6225 - val_wine_type_accuracy: 0.9949\n",
      "Epoch 9/40\n",
      "99/99 [==============================] - 0s 840us/step - loss: 0.3878 - wine_quality_loss: 0.3656 - wine_type_loss: 0.0222 - wine_quality_root_mean_squared_error: 0.6046 - wine_type_accuracy: 0.9949 - val_loss: 0.4176 - val_wine_quality_loss: 0.3882 - val_wine_type_loss: 0.0294 - val_wine_quality_root_mean_squared_error: 0.6230 - val_wine_type_accuracy: 0.9962\n",
      "Epoch 10/40\n",
      "99/99 [==============================] - 0s 879us/step - loss: 0.3729 - wine_quality_loss: 0.3518 - wine_type_loss: 0.0211 - wine_quality_root_mean_squared_error: 0.5931 - wine_type_accuracy: 0.9949 - val_loss: 0.4012 - val_wine_quality_loss: 0.3728 - val_wine_type_loss: 0.0284 - val_wine_quality_root_mean_squared_error: 0.6106 - val_wine_type_accuracy: 0.9962\n",
      "Epoch 11/40\n",
      "99/99 [==============================] - 0s 847us/step - loss: 0.3789 - wine_quality_loss: 0.3583 - wine_type_loss: 0.0205 - wine_quality_root_mean_squared_error: 0.5986 - wine_type_accuracy: 0.9952 - val_loss: 0.4710 - val_wine_quality_loss: 0.4431 - val_wine_type_loss: 0.0278 - val_wine_quality_root_mean_squared_error: 0.6657 - val_wine_type_accuracy: 0.9962\n",
      "Epoch 12/40\n",
      "99/99 [==============================] - 0s 827us/step - loss: 0.3642 - wine_quality_loss: 0.3449 - wine_type_loss: 0.0193 - wine_quality_root_mean_squared_error: 0.5873 - wine_type_accuracy: 0.9956 - val_loss: 0.4042 - val_wine_quality_loss: 0.3763 - val_wine_type_loss: 0.0279 - val_wine_quality_root_mean_squared_error: 0.6134 - val_wine_type_accuracy: 0.9962\n",
      "Epoch 13/40\n",
      "99/99 [==============================] - 0s 789us/step - loss: 0.3569 - wine_quality_loss: 0.3389 - wine_type_loss: 0.0180 - wine_quality_root_mean_squared_error: 0.5822 - wine_type_accuracy: 0.9959 - val_loss: 0.4240 - val_wine_quality_loss: 0.3961 - val_wine_type_loss: 0.0279 - val_wine_quality_root_mean_squared_error: 0.6294 - val_wine_type_accuracy: 0.9962\n",
      "Epoch 14/40\n",
      "99/99 [==============================] - 0s 837us/step - loss: 0.3489 - wine_quality_loss: 0.3316 - wine_type_loss: 0.0173 - wine_quality_root_mean_squared_error: 0.5758 - wine_type_accuracy: 0.9956 - val_loss: 0.5098 - val_wine_quality_loss: 0.4828 - val_wine_type_loss: 0.0270 - val_wine_quality_root_mean_squared_error: 0.6948 - val_wine_type_accuracy: 0.9975\n",
      "Epoch 15/40\n",
      "99/99 [==============================] - 0s 804us/step - loss: 0.3462 - wine_quality_loss: 0.3298 - wine_type_loss: 0.0164 - wine_quality_root_mean_squared_error: 0.5743 - wine_type_accuracy: 0.9959 - val_loss: 0.3916 - val_wine_quality_loss: 0.3651 - val_wine_type_loss: 0.0265 - val_wine_quality_root_mean_squared_error: 0.6042 - val_wine_type_accuracy: 0.9975\n",
      "Epoch 16/40\n",
      "99/99 [==============================] - 0s 814us/step - loss: 0.3432 - wine_quality_loss: 0.3281 - wine_type_loss: 0.0150 - wine_quality_root_mean_squared_error: 0.5728 - wine_type_accuracy: 0.9965 - val_loss: 0.3992 - val_wine_quality_loss: 0.3718 - val_wine_type_loss: 0.0274 - val_wine_quality_root_mean_squared_error: 0.6097 - val_wine_type_accuracy: 0.9962\n",
      "Epoch 17/40\n",
      "99/99 [==============================] - 0s 759us/step - loss: 0.3428 - wine_quality_loss: 0.3282 - wine_type_loss: 0.0146 - wine_quality_root_mean_squared_error: 0.5729 - wine_type_accuracy: 0.9962 - val_loss: 0.4229 - val_wine_quality_loss: 0.3965 - val_wine_type_loss: 0.0264 - val_wine_quality_root_mean_squared_error: 0.6297 - val_wine_type_accuracy: 0.9975\n",
      "Epoch 18/40\n",
      "99/99 [==============================] - 0s 742us/step - loss: 0.3304 - wine_quality_loss: 0.3167 - wine_type_loss: 0.0137 - wine_quality_root_mean_squared_error: 0.5628 - wine_type_accuracy: 0.9968 - val_loss: 0.4008 - val_wine_quality_loss: 0.3744 - val_wine_type_loss: 0.0264 - val_wine_quality_root_mean_squared_error: 0.6119 - val_wine_type_accuracy: 0.9975\n",
      "Epoch 19/40\n",
      "99/99 [==============================] - 0s 746us/step - loss: 0.3324 - wine_quality_loss: 0.3195 - wine_type_loss: 0.0129 - wine_quality_root_mean_squared_error: 0.5653 - wine_type_accuracy: 0.9965 - val_loss: 0.4379 - val_wine_quality_loss: 0.4109 - val_wine_type_loss: 0.0270 - val_wine_quality_root_mean_squared_error: 0.6410 - val_wine_type_accuracy: 0.9975\n",
      "Epoch 20/40\n",
      "99/99 [==============================] - 0s 725us/step - loss: 0.3177 - wine_quality_loss: 0.3057 - wine_type_loss: 0.0121 - wine_quality_root_mean_squared_error: 0.5529 - wine_type_accuracy: 0.9971 - val_loss: 0.4591 - val_wine_quality_loss: 0.4323 - val_wine_type_loss: 0.0268 - val_wine_quality_root_mean_squared_error: 0.6575 - val_wine_type_accuracy: 0.9975\n",
      "Epoch 21/40\n",
      "99/99 [==============================] - 0s 885us/step - loss: 0.3216 - wine_quality_loss: 0.3104 - wine_type_loss: 0.0111 - wine_quality_root_mean_squared_error: 0.5572 - wine_type_accuracy: 0.9968 - val_loss: 0.4730 - val_wine_quality_loss: 0.4463 - val_wine_type_loss: 0.0267 - val_wine_quality_root_mean_squared_error: 0.6681 - val_wine_type_accuracy: 0.9975\n",
      "Epoch 22/40\n",
      "99/99 [==============================] - 0s 803us/step - loss: 0.3128 - wine_quality_loss: 0.3017 - wine_type_loss: 0.0111 - wine_quality_root_mean_squared_error: 0.5493 - wine_type_accuracy: 0.9968 - val_loss: 0.4327 - val_wine_quality_loss: 0.4060 - val_wine_type_loss: 0.0267 - val_wine_quality_root_mean_squared_error: 0.6372 - val_wine_type_accuracy: 0.9975\n",
      "Epoch 23/40\n",
      "99/99 [==============================] - 0s 771us/step - loss: 0.3191 - wine_quality_loss: 0.3093 - wine_type_loss: 0.0099 - wine_quality_root_mean_squared_error: 0.5561 - wine_type_accuracy: 0.9971 - val_loss: 0.4754 - val_wine_quality_loss: 0.4484 - val_wine_type_loss: 0.0269 - val_wine_quality_root_mean_squared_error: 0.6697 - val_wine_type_accuracy: 0.9975\n",
      "Epoch 24/40\n",
      "99/99 [==============================] - 0s 739us/step - loss: 0.3139 - wine_quality_loss: 0.3042 - wine_type_loss: 0.0097 - wine_quality_root_mean_squared_error: 0.5515 - wine_type_accuracy: 0.9968 - val_loss: 0.3934 - val_wine_quality_loss: 0.3668 - val_wine_type_loss: 0.0266 - val_wine_quality_root_mean_squared_error: 0.6056 - val_wine_type_accuracy: 0.9975\n",
      "Epoch 25/40\n",
      "99/99 [==============================] - 0s 730us/step - loss: 0.3081 - wine_quality_loss: 0.2992 - wine_type_loss: 0.0089 - wine_quality_root_mean_squared_error: 0.5470 - wine_type_accuracy: 0.9971 - val_loss: 0.3844 - val_wine_quality_loss: 0.3576 - val_wine_type_loss: 0.0268 - val_wine_quality_root_mean_squared_error: 0.5980 - val_wine_type_accuracy: 0.9975\n",
      "Epoch 26/40\n",
      "99/99 [==============================] - 0s 735us/step - loss: 0.3087 - wine_quality_loss: 0.3002 - wine_type_loss: 0.0085 - wine_quality_root_mean_squared_error: 0.5479 - wine_type_accuracy: 0.9971 - val_loss: 0.4316 - val_wine_quality_loss: 0.4050 - val_wine_type_loss: 0.0266 - val_wine_quality_root_mean_squared_error: 0.6364 - val_wine_type_accuracy: 0.9975\n",
      "Epoch 27/40\n",
      "99/99 [==============================] - 0s 734us/step - loss: 0.3017 - wine_quality_loss: 0.2936 - wine_type_loss: 0.0081 - wine_quality_root_mean_squared_error: 0.5418 - wine_type_accuracy: 0.9971 - val_loss: 0.4014 - val_wine_quality_loss: 0.3748 - val_wine_type_loss: 0.0265 - val_wine_quality_root_mean_squared_error: 0.6122 - val_wine_type_accuracy: 0.9975\n",
      "Epoch 28/40\n",
      "99/99 [==============================] - 0s 716us/step - loss: 0.3053 - wine_quality_loss: 0.2980 - wine_type_loss: 0.0073 - wine_quality_root_mean_squared_error: 0.5459 - wine_type_accuracy: 0.9975 - val_loss: 0.4445 - val_wine_quality_loss: 0.4173 - val_wine_type_loss: 0.0273 - val_wine_quality_root_mean_squared_error: 0.6460 - val_wine_type_accuracy: 0.9975\n",
      "Epoch 29/40\n",
      "99/99 [==============================] - 0s 724us/step - loss: 0.2954 - wine_quality_loss: 0.2881 - wine_type_loss: 0.0073 - wine_quality_root_mean_squared_error: 0.5367 - wine_type_accuracy: 0.9975 - val_loss: 0.4346 - val_wine_quality_loss: 0.4073 - val_wine_type_loss: 0.0273 - val_wine_quality_root_mean_squared_error: 0.6382 - val_wine_type_accuracy: 0.9975\n",
      "Epoch 30/40\n",
      "99/99 [==============================] - 0s 757us/step - loss: 0.2997 - wine_quality_loss: 0.2930 - wine_type_loss: 0.0067 - wine_quality_root_mean_squared_error: 0.5413 - wine_type_accuracy: 0.9975 - val_loss: 0.4068 - val_wine_quality_loss: 0.3789 - val_wine_type_loss: 0.0279 - val_wine_quality_root_mean_squared_error: 0.6156 - val_wine_type_accuracy: 0.9975\n",
      "Epoch 31/40\n",
      "99/99 [==============================] - 0s 740us/step - loss: 0.2922 - wine_quality_loss: 0.2858 - wine_type_loss: 0.0064 - wine_quality_root_mean_squared_error: 0.5346 - wine_type_accuracy: 0.9981 - val_loss: 0.4043 - val_wine_quality_loss: 0.3761 - val_wine_type_loss: 0.0282 - val_wine_quality_root_mean_squared_error: 0.6133 - val_wine_type_accuracy: 0.9975\n",
      "Epoch 32/40\n",
      "99/99 [==============================] - 0s 753us/step - loss: 0.2899 - wine_quality_loss: 0.2836 - wine_type_loss: 0.0063 - wine_quality_root_mean_squared_error: 0.5325 - wine_type_accuracy: 0.9975 - val_loss: 0.3929 - val_wine_quality_loss: 0.3645 - val_wine_type_loss: 0.0284 - val_wine_quality_root_mean_squared_error: 0.6037 - val_wine_type_accuracy: 0.9975\n",
      "Epoch 33/40\n",
      "99/99 [==============================] - 0s 737us/step - loss: 0.2869 - wine_quality_loss: 0.2812 - wine_type_loss: 0.0057 - wine_quality_root_mean_squared_error: 0.5303 - wine_type_accuracy: 0.9978 - val_loss: 0.3813 - val_wine_quality_loss: 0.3528 - val_wine_type_loss: 0.0285 - val_wine_quality_root_mean_squared_error: 0.5939 - val_wine_type_accuracy: 0.9975\n",
      "Epoch 34/40\n",
      "99/99 [==============================] - 0s 731us/step - loss: 0.2868 - wine_quality_loss: 0.2811 - wine_type_loss: 0.0058 - wine_quality_root_mean_squared_error: 0.5302 - wine_type_accuracy: 0.9981 - val_loss: 0.3929 - val_wine_quality_loss: 0.3634 - val_wine_type_loss: 0.0295 - val_wine_quality_root_mean_squared_error: 0.6029 - val_wine_type_accuracy: 0.9975\n",
      "Epoch 35/40\n",
      "99/99 [==============================] - 0s 722us/step - loss: 0.2795 - wine_quality_loss: 0.2741 - wine_type_loss: 0.0054 - wine_quality_root_mean_squared_error: 0.5235 - wine_type_accuracy: 0.9981 - val_loss: 0.4298 - val_wine_quality_loss: 0.4000 - val_wine_type_loss: 0.0298 - val_wine_quality_root_mean_squared_error: 0.6325 - val_wine_type_accuracy: 0.9975\n",
      "Epoch 36/40\n",
      "99/99 [==============================] - 0s 723us/step - loss: 0.2844 - wine_quality_loss: 0.2795 - wine_type_loss: 0.0049 - wine_quality_root_mean_squared_error: 0.5287 - wine_type_accuracy: 0.9981 - val_loss: 0.3886 - val_wine_quality_loss: 0.3576 - val_wine_type_loss: 0.0310 - val_wine_quality_root_mean_squared_error: 0.5980 - val_wine_type_accuracy: 0.9975\n",
      "Epoch 37/40\n",
      "99/99 [==============================] - 0s 747us/step - loss: 0.2765 - wine_quality_loss: 0.2717 - wine_type_loss: 0.0048 - wine_quality_root_mean_squared_error: 0.5212 - wine_type_accuracy: 0.9987 - val_loss: 0.4726 - val_wine_quality_loss: 0.4421 - val_wine_type_loss: 0.0305 - val_wine_quality_root_mean_squared_error: 0.6649 - val_wine_type_accuracy: 0.9975\n",
      "Epoch 38/40\n",
      "99/99 [==============================] - 0s 769us/step - loss: 0.2836 - wine_quality_loss: 0.2789 - wine_type_loss: 0.0046 - wine_quality_root_mean_squared_error: 0.5282 - wine_type_accuracy: 0.9984 - val_loss: 0.4446 - val_wine_quality_loss: 0.4143 - val_wine_type_loss: 0.0303 - val_wine_quality_root_mean_squared_error: 0.6437 - val_wine_type_accuracy: 0.9975\n",
      "Epoch 39/40\n",
      "99/99 [==============================] - 0s 776us/step - loss: 0.2781 - wine_quality_loss: 0.2738 - wine_type_loss: 0.0044 - wine_quality_root_mean_squared_error: 0.5232 - wine_type_accuracy: 0.9987 - val_loss: 0.4470 - val_wine_quality_loss: 0.4160 - val_wine_type_loss: 0.0311 - val_wine_quality_root_mean_squared_error: 0.6450 - val_wine_type_accuracy: 0.9975\n",
      "Epoch 40/40\n",
      "99/99 [==============================] - 0s 745us/step - loss: 0.2763 - wine_quality_loss: 0.2722 - wine_type_loss: 0.0041 - wine_quality_root_mean_squared_error: 0.5218 - wine_type_accuracy: 0.9984 - val_loss: 0.3889 - val_wine_quality_loss: 0.3564 - val_wine_type_loss: 0.0325 - val_wine_quality_root_mean_squared_error: 0.5970 - val_wine_type_accuracy: 0.9975\n"
     ]
    }
   ],
   "source": [
    "history = model.fit(norm_train_X, train_Y,\n",
    "                    epochs = 40, validation_data=(norm_val_X, val_Y))"
   ]
  },
  {
   "cell_type": "code",
   "execution_count": 27,
   "id": "ffdaf2c6-7319-4fc8-9cfc-607db561ca33",
   "metadata": {},
   "outputs": [
    {
     "name": "stdout",
     "output_type": "stream",
     "text": [
      "25/25 [==============================] - 0s 706us/step - loss: 0.3889 - wine_quality_loss: 0.3564 - wine_type_loss: 0.0325 - wine_quality_root_mean_squared_error: 0.5970 - wine_type_accuracy: 0.9975\n",
      "\n",
      "loss: 0.388884961605072\n",
      "wine_quality_loss: 0.35639363527297974\n",
      "wine_type_loss: 0.032491251826286316\n",
      "wine_quality_rmse: 0.5969871282577515\n",
      "wine_type_accuracy: 0.9974651336669922\n"
     ]
    }
   ],
   "source": [
    "# Gather the training metrics\n",
    "loss, wine_quality_loss, wine_type_loss, wine_quality_rmse, wine_type_accuracy = model.evaluate(x=norm_val_X, y=val_Y)\n",
    "\n",
    "print()\n",
    "print(f'loss: {loss}')\n",
    "print(f'wine_quality_loss: {wine_quality_loss}')\n",
    "print(f'wine_type_loss: {wine_type_loss}')\n",
    "print(f'wine_quality_rmse: {wine_quality_rmse}')\n",
    "print(f'wine_type_accuracy: {wine_type_accuracy}')\n"
   ]
  },
  {
   "cell_type": "markdown",
   "id": "65adfcf8-8a70-4147-be2c-e70f6eaf2af8",
   "metadata": {},
   "source": [
    "## Analyze the Model Performance\n",
    "\n",
    "Note that the model has two outputs. The output at index 0 is quality and index 1 is wine type\n",
    "\n",
    "So, round the quality predictions to the nearest integer."
   ]
  },
  {
   "cell_type": "code",
   "execution_count": 28,
   "id": "0a886dd3-667d-4178-97f0-27a10b362481",
   "metadata": {},
   "outputs": [
    {
     "name": "stdout",
     "output_type": "stream",
     "text": [
      "31/31 [==============================] - 0s 530us/step\n"
     ]
    }
   ],
   "source": [
    "predictions = model.predict(norm_test_X)\n",
    "quality_pred = predictions[0]\n",
    "type_pred = predictions[1]"
   ]
  },
  {
   "cell_type": "code",
   "execution_count": 30,
   "id": "7fd3f5f8-8029-4456-88ce-15946fc59534",
   "metadata": {},
   "outputs": [
    {
     "name": "stdout",
     "output_type": "stream",
     "text": [
      "[5.717078]\n"
     ]
    }
   ],
   "source": [
    "print(quality_pred[0])"
   ]
  },
  {
   "cell_type": "code",
   "execution_count": 31,
   "id": "cb684a12-f42f-4886-a03c-c25369477d03",
   "metadata": {},
   "outputs": [
    {
     "name": "stdout",
     "output_type": "stream",
     "text": [
      "[0.00014616]\n",
      "[6.037735e-05]\n"
     ]
    }
   ],
   "source": [
    "print(type_pred[0])\n",
    "print(type_pred[944])"
   ]
  },
  {
   "cell_type": "markdown",
   "id": "095a0949-071a-4358-a02d-3e65769ef6b7",
   "metadata": {},
   "source": [
    "### Plot Utilities\n",
    "\n",
    "We define a few utilities to visualize the model performance."
   ]
  },
  {
   "cell_type": "code",
   "execution_count": 32,
   "id": "dd7bc5c8-0a4a-4159-9d6b-9c5142bc8ee1",
   "metadata": {},
   "outputs": [],
   "source": [
    "def plot_metrics(metric_name, title, ylim=5):\n",
    "    plt.title(title)\n",
    "    plt.ylim(0,ylim)\n",
    "    plt.plot(history.history[metric_name],color='blue',label=metric_name)\n",
    "    plt.plot(history.history['val_' + metric_name],color='green',label='val_' + metric_name)"
   ]
  },
  {
   "cell_type": "code",
   "execution_count": 33,
   "id": "3b63aa77-df46-42d2-8e29-8982b20df22b",
   "metadata": {},
   "outputs": [],
   "source": [
    "def plot_confusion_matrix(y_true, y_pred, title='', labels=[0,1]):\n",
    "    cm = confusion_matrix(test_Y[1], np.round(type_pred), labels=[0, 1])\n",
    "    disp = ConfusionMatrixDisplay(confusion_matrix=cm,\n",
    "                                  display_labels=[0, 1])\n",
    "    disp.plot(values_format='d');\n",
    "\n",
    "def plot_diff(y_true, y_pred, title = '' ):\n",
    "    plt.scatter(y_true, y_pred)\n",
    "    plt.title(title)\n",
    "    plt.xlabel('True Values')\n",
    "    plt.ylabel('Predictions')\n",
    "    plt.axis('equal')\n",
    "    plt.axis('square')\n",
    "    plt.plot([-100, 100], [-100, 100])\n",
    "    return plt"
   ]
  },
  {
   "cell_type": "code",
   "execution_count": 34,
   "id": "db754cad-a8dd-43e7-b1e5-4eec6163a74a",
   "metadata": {},
   "outputs": [
    {
     "data": {
      "image/png": "[encoded data removed]",
      "text/plain": [
       "<Figure size 640x480 with 1 Axes>"
      ]
     },
     "metadata": {},
     "output_type": "display_data"
    }
   ],
   "source": [
    "plot_metrics('wine_quality_root_mean_squared_error', 'RMSE', ylim=2)"
   ]
  },
  {
   "cell_type": "code",
   "execution_count": 35,
   "id": "46eef526-4492-4178-8971-a31875961c7b",
   "metadata": {},
   "outputs": [
    {
     "data": {
      "image/png": "[encoded data removed]",
      "text/plain": [
       "<Figure size 640x480 with 1 Axes>"
      ]
     },
     "metadata": {},
     "output_type": "display_data"
    }
   ],
   "source": [
    "plot_metrics('wine_type_loss', 'Wine Type Loss', ylim=0.2)"
   ]
  },
  {
   "cell_type": "markdown",
   "id": "8df9a85e-5ad6-44aa-ab75-9a49e7195576",
   "metadata": {},
   "source": [
    "### Plots for Confusion Matrix\n",
    "\n",
    "Plot the confusion matrices for wine type. You can see that the model performs well for prediction of wine type from the confusion matrix and the loss metrics."
   ]
  },
  {
   "cell_type": "code",
   "execution_count": 36,
   "id": "8e292ca9-dd11-4088-9dbf-da65f42c69d3",
   "metadata": {},
   "outputs": [
    {
     "data": {
      "image/png": "[encoded data removed]",
      "text/plain": [
       "<Figure size 640x480 with 2 Axes>"
      ]
     },
     "metadata": {},
     "output_type": "display_data"
    }
   ],
   "source": [
    "plot_confusion_matrix(test_Y[1], np.round(type_pred), title='Wine Type', labels = [0, 1])"
   ]
  },
  {
   "cell_type": "code",
   "execution_count": null,
   "id": "c8490e12-66d5-482f-af12-334e2564b74d",
   "metadata": {},
   "outputs": [],
   "source": []
  }
 ],
 "metadata": {
  "kernelspec": {
   "display_name": "Python 3 (ipykernel)",
   "language": "python",
   "name": "python3"
  },
  "language_info": {
   "codemirror_mode": {
    "name": "ipython",
    "version": 3
   },
   "file_extension": ".py",
   "mimetype": "text/x-python",
   "name": "python",
   "nbconvert_exporter": "python",
   "pygments_lexer": "ipython3",
   "version": "3.11.5"
  }
 },
 "nbformat": 4,
 "nbformat_minor": 5
}
