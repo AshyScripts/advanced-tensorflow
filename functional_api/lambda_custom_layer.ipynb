{
 "cells": [
  {
   "cell_type": "markdown",
   "id": "ab57e33a-9e98-4953-8c77-fdcf1a40e829",
   "metadata": {},
   "source": [
    "## Lambda Layer\n",
    "\n",
    "In this lab, I will show how you can define custom layers with the [Lambda](https://keras.io/api/layers/core_layers/lambda/) layer. You can either use [lambda functions](https://www.w3schools.com/python/python_lambda.asp) within the Lambda layer or define a custom function that the Lambda layer will call. Let's get started!"
   ]
  },
  {
   "cell_type": "markdown",
   "id": "a58445ce-e3da-435c-8f78-ed925ffac48f",
   "metadata": {},
   "source": [
    "## Imports"
   ]
  },
  {
   "cell_type": "code",
   "execution_count": 1,
   "id": "671d7327-b9b0-4baa-b9c6-72de2ab1f4bf",
   "metadata": {},
   "outputs": [],
   "source": [
    "import tensorflow as tf\n",
    "from tensorflow.keras import backend as K"
   ]
  },
  {
   "cell_type": "markdown",
   "id": "a09c3d0f-861d-4cd9-82bd-5b3e34386623",
   "metadata": {},
   "source": [
    "## Prepare the Dataset"
   ]
  },
  {
   "cell_type": "code",
   "execution_count": 2,
   "id": "e4e59080-b279-428a-b6a6-b953bea4cd3b",
   "metadata": {},
   "outputs": [
    {
     "name": "stdout",
     "output_type": "stream",
     "text": [
      "Downloading data from https://storage.googleapis.com/tensorflow/tf-keras-datasets/mnist.npz\n",
      "11490434/11490434 [==============================] - 1s 0us/step\n"
     ]
    }
   ],
   "source": [
    "mnist = tf.keras.datasets.mnist\n",
    "\n",
    "(X_train, y_train),(X_test, y_test) = mnist.load_data()\n",
    "X_train, X_test = X_train / 255.0, X_test / 255.0"
   ]
  },
  {
   "cell_type": "markdown",
   "id": "db9f6a45-4332-40d2-b78f-30c7c915e187",
   "metadata": {},
   "source": [
    "## Build the Model\n",
    "\n",
    "Here, we'll use a Lambda layer to define a custom layer in our network. We're using a lambda function to get the absolute value of the layer input."
   ]
  },
  {
   "cell_type": "code",
   "execution_count": 3,
   "id": "f76746d4-1b97-4ae9-8b47-85b50948304d",
   "metadata": {},
   "outputs": [],
   "source": [
    "# Building the model using built-in sequnetial models of keras\n",
    "model = tf.keras.models.Sequential([\n",
    "    tf.keras.layers.Flatten(input_shape=(28, 28)),\n",
    "    tf.keras.layers.Dense(128), # We didn't use any activation function\n",
    "    tf.keras.layers.Lambda(lambda x: tf.abs(x)), # We used a custom Lambda layer with a lambda function\n",
    "    tf.keras.layers.Dense(10, activation='softmax'),\n",
    "])"
   ]
  },
  {
   "cell_type": "code",
   "execution_count": 4,
   "id": "b4ddee8c-2a18-45b4-a3de-15aeef0bf183",
   "metadata": {},
   "outputs": [
    {
     "name": "stdout",
     "output_type": "stream",
     "text": [
      "Epoch 1/5\n",
      "1875/1875 [==============================] - 1s 659us/step - loss: 0.2213 - accuracy: 0.9381\n",
      "Epoch 2/5\n",
      "1875/1875 [==============================] - 1s 650us/step - loss: 0.0906 - accuracy: 0.9727\n",
      "Epoch 3/5\n",
      "1875/1875 [==============================] - 1s 654us/step - loss: 0.0646 - accuracy: 0.9801\n",
      "Epoch 4/5\n",
      "1875/1875 [==============================] - 1s 653us/step - loss: 0.0484 - accuracy: 0.9855\n",
      "Epoch 5/5\n",
      "1875/1875 [==============================] - 1s 654us/step - loss: 0.0380 - accuracy: 0.9880\n",
      "313/313 [==============================] - 0s 420us/step - loss: 0.0791 - accuracy: 0.9764\n"
     ]
    },
    {
     "data": {
      "text/plain": [
       "[0.0791352167725563, 0.9764000177383423]"
      ]
     },
     "execution_count": 4,
     "metadata": {},
     "output_type": "execute_result"
    }
   ],
   "source": [
    "# Compile the model\n",
    "model.compile(optimizer='adam',\n",
    "             loss='sparse_categorical_crossentropy',\n",
    "             metrics=['accuracy'])\n",
    "\n",
    "history = model.fit(X_train, y_train, epochs=5)\n",
    "model.evaluate(X_test, y_test)"
   ]
  },
  {
   "cell_type": "markdown",
   "id": "3dc9239b-425c-4375-8922-eda8cd53b4eb",
   "metadata": {},
   "source": [
    "Another way to use the Lambda layer is to pass in a function defined outside the model. The code below shows how a custom ReLU function is used as a custom layer in the model.\n",
    "\n",
    "> We can see how we can modify some any activation functions using Lambda layers."
   ]
  },
  {
   "cell_type": "code",
   "execution_count": 5,
   "id": "c2a44a26-1886-4dfa-8fef-9157c1f18d57",
   "metadata": {},
   "outputs": [
    {
     "name": "stdout",
     "output_type": "stream",
     "text": [
      "Epoch 1/5\n",
      "1875/1875 [==============================] - 1s 665us/step - loss: 0.3034 - accuracy: 0.9143\n",
      "Epoch 2/5\n",
      "1875/1875 [==============================] - 1s 661us/step - loss: 0.1336 - accuracy: 0.9607\n",
      "Epoch 3/5\n",
      "1875/1875 [==============================] - 1s 658us/step - loss: 0.0950 - accuracy: 0.9722\n",
      "Epoch 4/5\n",
      "1875/1875 [==============================] - 1s 655us/step - loss: 0.0737 - accuracy: 0.9777\n",
      "Epoch 5/5\n",
      "1875/1875 [==============================] - 1s 662us/step - loss: 0.0594 - accuracy: 0.9813\n",
      "313/313 [==============================] - 0s 692us/step - loss: 0.0762 - accuracy: 0.9749\n"
     ]
    },
    {
     "data": {
      "text/plain": [
       "<keras.src.callbacks.History at 0x297eaf3d0>"
      ]
     },
     "execution_count": 5,
     "metadata": {},
     "output_type": "execute_result"
    }
   ],
   "source": [
    "# Defining a custom function with custom relu threshold\n",
    "def my_relu(x):\n",
    "    return K.maximum(0.5, x)\n",
    "\n",
    "# Sequential model of keras\n",
    "model = tf.keras.models.Sequential([\n",
    "    tf.keras.layers.Flatten(input_shape=(28, 28)),\n",
    "    tf.keras.layers.Dense(128),\n",
    "    tf.keras.layers.Lambda(my_relu),\n",
    "    tf.keras.layers.Dense(10, activation='softmax')\n",
    "])\n",
    "\n",
    "# Compile the mode as previous one\n",
    "model.compile(optimizer='adam',\n",
    "             loss='sparse_categorical_crossentropy',\n",
    "             metrics=['accuracy'])\n",
    "\n",
    "# Fit the model\n",
    "history = model.fit(X_train, y_train, epochs=5)\n",
    "model.fit(X_test, y_test)"
   ]
  },
  {
   "cell_type": "code",
   "execution_count": null,
   "id": "145c8529-c14f-48d3-bc93-00f80f493e3a",
   "metadata": {},
   "outputs": [],
   "source": []
  }
 ],
 "metadata": {
  "kernelspec": {
   "display_name": "Python 3 (ipykernel)",
   "language": "python",
   "name": "python3"
  },
  "language_info": {
   "codemirror_mode": {
    "name": "ipython",
    "version": 3
   },
   "file_extension": ".py",
   "mimetype": "text/x-python",
   "name": "python",
   "nbconvert_exporter": "python",
   "pygments_lexer": "ipython3",
   "version": "3.11.5"
  }
 },
 "nbformat": 4,
 "nbformat_minor": 5
}
