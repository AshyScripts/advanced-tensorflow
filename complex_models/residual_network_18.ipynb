{
 "cells": [
  {
   "cell_type": "markdown",
   "id": "546c594f-36de-41ad-a89d-c0d0510f062f",
   "metadata": {},
   "source": [
    "## Implementing ResNet\n",
    "\n",
    "In this lab, we will continue exploring Model subclassing by building a more complex architecture. \n",
    "\n",
    "[Residual Networks](https://arxiv.org/abs/1512.03385) make use of skip connections to make deep models easier to train. \n",
    "- There are branches as well as many repeating blocks of layers in this type of network. \n",
    "- You can define a model class to help organize this more complex code, and to make it easier to re-use your code when building the model.\n",
    "- As before, you will inherit from the [Model class](https://keras.io/api/models/model/) so that you can make use of the other built-in methods that Keras provides."
   ]
  },
  {
   "cell_type": "markdown",
   "id": "c2822441-7ffd-40b0-a878-3e741e2009cb",
   "metadata": {},
   "source": [
    "## Imports"
   ]
  },
  {
   "cell_type": "code",
   "execution_count": 1,
   "id": "02f530d0-10f9-41e5-a117-7fbc1ae57ace",
   "metadata": {},
   "outputs": [],
   "source": [
    "import tensorflow as tf\n",
    "import tensorflow_datasets as tfds\n",
    "from tensorflow.keras.layers import Layer"
   ]
  },
  {
   "cell_type": "markdown",
   "id": "df6b788c-c88a-45cc-a58b-d3404d7a8e26",
   "metadata": {},
   "source": [
    "## Implement Model subclasses\n",
    "\n",
    "we will first implement the Identity Block which contains the skip connections (i.e. the `add()` operation below. This will also inherit the Model class and implement the `__init__()` and `call()` methods."
   ]
  },
  {
   "cell_type": "code",
   "execution_count": 2,
   "id": "be5d37da-5949-4124-a1e7-05ddbce3f89f",
   "metadata": {},
   "outputs": [],
   "source": [
    "# This block is a typical ResNet block with some convolution and batch normalization layers in it\n",
    "class IdentityBlock(tf.keras.Model):\n",
    "    def __init__(self, filters, kernel_size):\n",
    "        '''\n",
    "        It initiates an identity block model.\n",
    "\n",
    "        Parameters:\n",
    "        - filters: number of convolutions for each layer\n",
    "        - kernel_size: Size of kernels \n",
    "        '''\n",
    "        super().__init__()\n",
    "        self.conv1 = tf.keras.layers.Conv2D(filters, kernel_size, padding='same')\n",
    "        self.bn1 = tf.keras.layers.BatchNormalization()\n",
    "\n",
    "        self.conv2 = tf.keras.layers.Conv2D(filters, kernel_size, padding='same')\n",
    "        self.bn2 = tf.keras.layers.BatchNormalization()\n",
    "\n",
    "        self.act = tf.keras.layers.Activation('relu')\n",
    "        self.add = tf.keras.layers.Add()\n",
    "\n",
    "    def call(self, input_tensor):\n",
    "        x = self.conv1(input_tensor)\n",
    "        x = self.bn1(x)\n",
    "        x = self.act(x)\n",
    "\n",
    "        x = self.conv2(x)\n",
    "        x = self.bn2(x)\n",
    "        x = self.add([input_tensor, x])\n",
    "        x = self.act(x)\n",
    "        return x"
   ]
  },
  {
   "cell_type": "markdown",
   "id": "f186c4b3-117a-4bc4-b904-8201b1aaa2f9",
   "metadata": {},
   "source": [
    "From here, we can build the rest of the ResNet model. \n",
    "- You will call your `IdentityBlock` class two times below and that takes care of inserting those blocks of layers into this network."
   ]
  },
  {
   "cell_type": "code",
   "execution_count": 4,
   "id": "f2ef41ef-1366-4e0f-b119-e82225d184a8",
   "metadata": {},
   "outputs": [
    {
     "name": "stdout",
     "output_type": "stream",
     "text": [
      "Model: \"identity_block\"\n",
      "_________________________________________________________________\n",
      " Layer (type)                Output Shape              Param #   \n",
      "=================================================================\n",
      " conv2d (Conv2D)             multiple                  36928     \n",
      "                                                                 \n",
      " batch_normalization (Batch  multiple                  256       \n",
      " Normalization)                                                  \n",
      "                                                                 \n",
      " conv2d_1 (Conv2D)           multiple                  36928     \n",
      "                                                                 \n",
      " batch_normalization_1 (Bat  multiple                  256       \n",
      " chNormalization)                                                \n",
      "                                                                 \n",
      " activation (Activation)     multiple                  0         \n",
      "                                                                 \n",
      " add (Add)                   multiple                  0         \n",
      "                                                                 \n",
      "=================================================================\n",
      "Total params: 74368 (290.50 KB)\n",
      "Trainable params: 74112 (289.50 KB)\n",
      "Non-trainable params: 256 (1.00 KB)\n",
      "_________________________________________________________________\n"
     ]
    }
   ],
   "source": [
    "# Now let's visulize our IdentityBlock model\n",
    "\n",
    "# Create an instance of the IdentityBlock\n",
    "block = IdentityBlock(filters=64, kernel_size=3)  # Using example parameters\n",
    "\n",
    "# Build the block by providing an input shape\n",
    "block.build((None, 32, 32, 64))  # Assuming an input shape of (32, 32, 64) for this example\n",
    "\n",
    "# Print the block summary\n",
    "block.summary()"
   ]
  },
  {
   "cell_type": "code",
   "execution_count": 5,
   "id": "a420a216-ddf0-4b71-a788-b2994fa0075e",
   "metadata": {},
   "outputs": [
    {
     "data": {
      "image/png": "[encoded data removed]",
      "text/plain": [
       "<IPython.core.display.Image object>"
      ]
     },
     "execution_count": 5,
     "metadata": {},
     "output_type": "execute_result"
    }
   ],
   "source": [
    "from tensorflow.keras.utils import plot_model\n",
    "plot_model(block, )"
   ]
  },
  {
   "cell_type": "code",
   "execution_count": null,
   "id": "a3752849-9d91-48b8-8f80-5d713c96e321",
   "metadata": {},
   "outputs": [],
   "source": []
  }
 ],
 "metadata": {
  "kernelspec": {
   "display_name": "Python 3 (ipykernel)",
   "language": "python",
   "name": "python3"
  },
  "language_info": {
   "codemirror_mode": {
    "name": "ipython",
    "version": 3
   },
   "file_extension": ".py",
   "mimetype": "text/x-python",
   "name": "python",
   "nbconvert_exporter": "python",
   "pygments_lexer": "ipython3",
   "version": "3.11.5"
  }
 },
 "nbformat": 4,
 "nbformat_minor": 5
}
